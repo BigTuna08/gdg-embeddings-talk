{
 "cells": [
  {
   "cell_type": "code",
   "execution_count": 90,
   "metadata": {},
   "outputs": [],
   "source": [
    "last_years_talks = [\n",
    "    {\n",
    "        \"speaker_name\": \"CO Pilot\",\n",
    "        \"title\": \"The Power of the Shell\",\n",
    "        \"content\": \"The shell is a powerful tool that can help you automate tasks, manage your system, and more. In this talk, we'll cover the basics of the shell, how to write shell scripts, and some useful tips and tricks to help you get the most out of the shell.\"\n",
    "    },\n",
    "    {\n",
    "        \"speaker_name\": \"Kyle Nickerson\",\n",
    "        \"title\": \"Embeddings: A key component for modern AI\",\n",
    "        \"content\": \"Embeddings are an important tool for representing data, both for data visualization and for use in modern AI. In this talk, we will explore the evolution of embeddings, their critical role in data visualization, and their application in Retrieval-Augmented Generation (RAG) within chat systems. Additionally, I’ll discuss multi-modal embeddings that enable models to process multiple data types, such as text and images.\"\n",
    "    },\n",
    "    {\n",
    "        \"speaker_name\": \"Shawn Chen\",\n",
    "        \"title\": \"From Web to Mobile Development\",\n",
    "        \"content\": \"Explore how React Native seamlessly extends our web development skills to mobile app development. Uncover the inner workings of React Native, its advantages, and how it leverages a unified codebase and shared libraries. Additionally, delve into the challenges faced as a React Native developer and discover effective mitigation strategies.\"\n",
    "    },\n",
    "    {\n",
    "        \"speaker_name\": \"Lesley Chard\",\n",
    "        \"title\": \"Design Thinking for Developers\",\n",
    "        \"content\": \"Unlock the power of innovation with Design Thinking for Developers. Geared toward engineers eager to enhance their problem-solving skills, this session offers a comprehensive introduction to the principles of design thinking. Through this talk, participants will explore the iterative process of empathizing, defining, ideating, prototyping, and testing—a proven methodology to foster creative solutions. Get ready to unleash your creative potential and revolutionize your problem-solving approach!\"\n",
    "    },\n",
    "    {\n",
    "        \"speaker_name\": \"Meagan Campbell\",\n",
    "        \"title\": \"Intro to Technical Writing\",\n",
    "        \"content\": \"A crash course in becoming a better writer. Even if you never plan to be a full-time writer, intentionally improving your writing skills is a powerful career move. Becoming a stronger writer helps make you a stronger developer, a stronger teammate, and a stronger candidate for whatever opportunities your future may hold. This session will cover an overview of technical writing and different types of writing in SaaS, tips to improve your writing (with examples), and helpful resources you can explore on your own.\"\n",
    "    },\n",
    "    {\n",
    "        \"speaker_name\": \"Sushmitha Batchu\",\n",
    "        \"title\": \"Demystifying Prompt Engineering\",\n",
    "        \"content\": \"Prompt engineering is the process of structuring text that can be interpreted and understood by a generative AI model, such as ChatGPT. We'll explore what it is, why it's crucial to learn, the benefits it brings, and some practical tips. I firmly believe that mastering this skill can supercharge our ability to use AI effectively, create user-friendly software, stay ethical, and stay ahead in the ever-changing world of AI-powered technology. This talk will cover What is Prompt and Prompt Engineering, Elements of Prompt, Prompt Parameters and Their Significance, Use Cases, Prompting Techniques, and Tips for Crafting Effective Prompts.\"\n",
    "    },\n",
    "    {\n",
    "        \"speaker_name\": \"Mitchell Hynes\",\n",
    "        \"title\": \"Intro to GitHub and Open Source\",\n",
    "        \"content\": \"In this presentation, Mitch will cover the differences between Git and GitHub and what role they play in Open Source Software at large. Including the dos-and-don'ts of collaborating on GitHub, how to find a project to contribute to, and what contributing looks like from an Open Source Maintainer's perspective.\"\n",
    "    },\n",
    "    {\n",
    "        \"speaker_name\": \"Tim Oram\",\n",
    "        \"title\": \"Levelling up Git Rebase\",\n",
    "        \"content\": \"When working with Git, the rebase command is often stated as being an alternative to Git merge. While this is true in the basic sense, this is only scratching the surface of what Git rebase provides. Even when using a merge-based workflow, I believe there are features of Git rebase that could still be very useful in your toolbox of source control tools. This talk will run through what exactly Git rebase is, as well as some expanded functionality.\"\n",
    "    },\n",
    "    {\n",
    "        \"speaker_name\": \"Jack Harrhy\",\n",
    "        \"title\": \"Modern Server side Web Dev\",\n",
    "        \"content\": \"Navigating the many methods available and considerations to be made while deploying a website in 2023. The web has existed in some form for the last three decades, and while some of its core remains the same, plenty has changed. Initially, since the browser was simple, most of the interesting dynamic nature of websites came from the server, but as JavaScript become more powerful, and people realized maybe doing more on the client would be better, the server in some cases is only responsible for shooting a small index.html alongside megabytes of JavaScript at the client. However, the bleeding edge of current modern web frameworks is rethinking this approach, and the pendulum is swinging back in the direction of the server, but with an interesting twist.\"\n",
    "    }\n",
    "]\n"
   ]
  },
  {
   "cell_type": "markdown",
   "metadata": {},
   "source": [
    "## Show an example"
   ]
  },
  {
   "cell_type": "code",
   "execution_count": 91,
   "metadata": {},
   "outputs": [
    {
     "data": {
      "text/markdown": [
       "### The Power of the Shell"
      ],
      "text/plain": [
       "<IPython.core.display.Markdown object>"
      ]
     },
     "metadata": {},
     "output_type": "display_data"
    },
    {
     "data": {
      "text/markdown": [
       "_by CO Pilot_"
      ],
      "text/plain": [
       "<IPython.core.display.Markdown object>"
      ]
     },
     "metadata": {},
     "output_type": "display_data"
    },
    {
     "data": {
      "text/markdown": [
       "The shell is a powerful tool that can help you automate tasks, manage your system, and more. In this talk, we'll cover the basics of the shell, how to write shell scripts, and some useful tips and tricks to help you get the most out of the shell."
      ],
      "text/plain": [
       "<IPython.core.display.Markdown object>"
      ]
     },
     "metadata": {},
     "output_type": "display_data"
    }
   ],
   "source": [
    "from IPython.display import display, Markdown\n",
    "\n",
    "a_talk = last_years_talks[0]\n",
    "\n",
    "display(Markdown(f\"### {a_talk['title']}\"))\n",
    "display(Markdown(f\"_by {a_talk['speaker_name']}_\"))\n",
    "# print(\"\\n\") \n",
    "display(Markdown(a_talk['content']))"
   ]
  },
  {
   "cell_type": "markdown",
   "metadata": {},
   "source": [
    "### Talk summary df"
   ]
  },
  {
   "cell_type": "code",
   "execution_count": 92,
   "metadata": {},
   "outputs": [],
   "source": [
    "import pandas as pd\n",
    "\n",
    "\n",
    "talk_summary_df = pd.DataFrame(last_years_talks)"
   ]
  },
  {
   "cell_type": "code",
   "execution_count": 93,
   "metadata": {},
   "outputs": [
    {
     "data": {
      "text/html": [
       "<div>\n",
       "<style scoped>\n",
       "    .dataframe tbody tr th:only-of-type {\n",
       "        vertical-align: middle;\n",
       "    }\n",
       "\n",
       "    .dataframe tbody tr th {\n",
       "        vertical-align: top;\n",
       "    }\n",
       "\n",
       "    .dataframe thead th {\n",
       "        text-align: right;\n",
       "    }\n",
       "</style>\n",
       "<table border=\"1\" class=\"dataframe\">\n",
       "  <thead>\n",
       "    <tr style=\"text-align: right;\">\n",
       "      <th></th>\n",
       "      <th>speaker_name</th>\n",
       "      <th>title</th>\n",
       "      <th>content</th>\n",
       "    </tr>\n",
       "  </thead>\n",
       "  <tbody>\n",
       "    <tr>\n",
       "      <th>0</th>\n",
       "      <td>CO Pilot</td>\n",
       "      <td>The Power of the Shell</td>\n",
       "      <td>The shell is a powerful tool that can help you...</td>\n",
       "    </tr>\n",
       "    <tr>\n",
       "      <th>1</th>\n",
       "      <td>Kyle Nickerson</td>\n",
       "      <td>Embeddings: A key component for modern AI</td>\n",
       "      <td>Embeddings are an important tool for represent...</td>\n",
       "    </tr>\n",
       "    <tr>\n",
       "      <th>2</th>\n",
       "      <td>Shawn Chen</td>\n",
       "      <td>From Web to Mobile Development</td>\n",
       "      <td>Explore how React Native seamlessly extends ou...</td>\n",
       "    </tr>\n",
       "    <tr>\n",
       "      <th>3</th>\n",
       "      <td>Lesley Chard</td>\n",
       "      <td>Design Thinking for Developers</td>\n",
       "      <td>Unlock the power of innovation with Design Thi...</td>\n",
       "    </tr>\n",
       "    <tr>\n",
       "      <th>4</th>\n",
       "      <td>Meagan Campbell</td>\n",
       "      <td>Intro to Technical Writing</td>\n",
       "      <td>A crash course in becoming a better writer. Ev...</td>\n",
       "    </tr>\n",
       "  </tbody>\n",
       "</table>\n",
       "</div>"
      ],
      "text/plain": [
       "      speaker_name                                      title  \\\n",
       "0         CO Pilot                     The Power of the Shell   \n",
       "1   Kyle Nickerson  Embeddings: A key component for modern AI   \n",
       "2       Shawn Chen             From Web to Mobile Development   \n",
       "3     Lesley Chard             Design Thinking for Developers   \n",
       "4  Meagan Campbell                 Intro to Technical Writing   \n",
       "\n",
       "                                             content  \n",
       "0  The shell is a powerful tool that can help you...  \n",
       "1  Embeddings are an important tool for represent...  \n",
       "2  Explore how React Native seamlessly extends ou...  \n",
       "3  Unlock the power of innovation with Design Thi...  \n",
       "4  A crash course in becoming a better writer. Ev...  "
      ]
     },
     "execution_count": 93,
     "metadata": {},
     "output_type": "execute_result"
    }
   ],
   "source": [
    "talk_summary_df.head()"
   ]
  },
  {
   "cell_type": "code",
   "execution_count": 94,
   "metadata": {},
   "outputs": [],
   "source": [
    "import os\n",
    "from openai import OpenAI\n",
    "\n",
    "from dotenv import load_dotenv\n",
    "load_dotenv()\n",
    "\n",
    "client = OpenAI(api_key=os.environ.get(\"OPENAI_API_KEY\"))"
   ]
  },
  {
   "cell_type": "code",
   "execution_count": 95,
   "metadata": {},
   "outputs": [
    {
     "name": "stdout",
     "output_type": "stream",
     "text": [
      "Batch 0 to 99\n"
     ]
    }
   ],
   "source": [
    "EMBEDDING_MODEL = \"text-embedding-3-small\"\n",
    "BATCH_SIZE = 100  # you can submit up to 2048 embedding inputs per request\n",
    "\n",
    "embeddings = []\n",
    "for batch_start in range(0, len(talk_summary_df), BATCH_SIZE):\n",
    "    batch_end = batch_start + BATCH_SIZE\n",
    "\n",
    "    batch = talk_summary_df.content[batch_start:batch_end]\n",
    "    print(f\"Batch {batch_start} to {batch_end-1}\")\n",
    "    response = client.embeddings.create(model=EMBEDDING_MODEL, input=batch)\n",
    "    for i, be in enumerate(response.data):\n",
    "        assert i == be.index  # double check embeddings are in same order as input\n",
    "    batch_embeddings = [e.embedding for e in response.data]\n",
    "    embeddings.extend(batch_embeddings)\n",
    "\n",
    "talk_summary_df[\"embedding\"] = embeddings\n"
   ]
  },
  {
   "cell_type": "code",
   "execution_count": 96,
   "metadata": {},
   "outputs": [
    {
     "data": {
      "text/html": [
       "<div>\n",
       "<style scoped>\n",
       "    .dataframe tbody tr th:only-of-type {\n",
       "        vertical-align: middle;\n",
       "    }\n",
       "\n",
       "    .dataframe tbody tr th {\n",
       "        vertical-align: top;\n",
       "    }\n",
       "\n",
       "    .dataframe thead th {\n",
       "        text-align: right;\n",
       "    }\n",
       "</style>\n",
       "<table border=\"1\" class=\"dataframe\">\n",
       "  <thead>\n",
       "    <tr style=\"text-align: right;\">\n",
       "      <th></th>\n",
       "      <th>speaker_name</th>\n",
       "      <th>title</th>\n",
       "      <th>content</th>\n",
       "      <th>embedding</th>\n",
       "    </tr>\n",
       "  </thead>\n",
       "  <tbody>\n",
       "    <tr>\n",
       "      <th>0</th>\n",
       "      <td>CO Pilot</td>\n",
       "      <td>The Power of the Shell</td>\n",
       "      <td>The shell is a powerful tool that can help you...</td>\n",
       "      <td>[0.026558618992567062, 0.02382306009531021, 0....</td>\n",
       "    </tr>\n",
       "    <tr>\n",
       "      <th>1</th>\n",
       "      <td>Kyle Nickerson</td>\n",
       "      <td>Embeddings: A key component for modern AI</td>\n",
       "      <td>Embeddings are an important tool for represent...</td>\n",
       "      <td>[0.02492578700184822, 0.02065279521048069, 0.0...</td>\n",
       "    </tr>\n",
       "    <tr>\n",
       "      <th>2</th>\n",
       "      <td>Shawn Chen</td>\n",
       "      <td>From Web to Mobile Development</td>\n",
       "      <td>Explore how React Native seamlessly extends ou...</td>\n",
       "      <td>[-0.0065011088736355305, 0.011018184013664722,...</td>\n",
       "    </tr>\n",
       "    <tr>\n",
       "      <th>3</th>\n",
       "      <td>Lesley Chard</td>\n",
       "      <td>Design Thinking for Developers</td>\n",
       "      <td>Unlock the power of innovation with Design Thi...</td>\n",
       "      <td>[0.022167742252349854, 0.0029427765402942896, ...</td>\n",
       "    </tr>\n",
       "    <tr>\n",
       "      <th>4</th>\n",
       "      <td>Meagan Campbell</td>\n",
       "      <td>Intro to Technical Writing</td>\n",
       "      <td>A crash course in becoming a better writer. Ev...</td>\n",
       "      <td>[-0.010334030725061893, 0.02384312078356743, 0...</td>\n",
       "    </tr>\n",
       "  </tbody>\n",
       "</table>\n",
       "</div>"
      ],
      "text/plain": [
       "      speaker_name                                      title  \\\n",
       "0         CO Pilot                     The Power of the Shell   \n",
       "1   Kyle Nickerson  Embeddings: A key component for modern AI   \n",
       "2       Shawn Chen             From Web to Mobile Development   \n",
       "3     Lesley Chard             Design Thinking for Developers   \n",
       "4  Meagan Campbell                 Intro to Technical Writing   \n",
       "\n",
       "                                             content  \\\n",
       "0  The shell is a powerful tool that can help you...   \n",
       "1  Embeddings are an important tool for represent...   \n",
       "2  Explore how React Native seamlessly extends ou...   \n",
       "3  Unlock the power of innovation with Design Thi...   \n",
       "4  A crash course in becoming a better writer. Ev...   \n",
       "\n",
       "                                           embedding  \n",
       "0  [0.026558618992567062, 0.02382306009531021, 0....  \n",
       "1  [0.02492578700184822, 0.02065279521048069, 0.0...  \n",
       "2  [-0.0065011088736355305, 0.011018184013664722,...  \n",
       "3  [0.022167742252349854, 0.0029427765402942896, ...  \n",
       "4  [-0.010334030725061893, 0.02384312078356743, 0...  "
      ]
     },
     "execution_count": 96,
     "metadata": {},
     "output_type": "execute_result"
    }
   ],
   "source": [
    "talk_summary_df.head()"
   ]
  },
  {
   "cell_type": "code",
   "execution_count": 97,
   "metadata": {},
   "outputs": [
    {
     "name": "stdout",
     "output_type": "stream",
     "text": [
      "Batch 0 to 99\n"
     ]
    }
   ],
   "source": [
    "talk_title_embeddings = []\n",
    "\n",
    "# embeddings = []\n",
    "# for batch_start in range(0, len(talk_summary_df), BATCH_SIZE):\n",
    "#     batch_end = batch_start + BATCH_SIZE\n",
    "\n",
    "#     batch = talk_summary_df.content[batch_start:batch_end]\n",
    "#     print(f\"Batch {batch_start} to {batch_end-1}\")\n",
    "#     response = client.embeddings.create(model=EMBEDDING_MODEL, input=batch)\n",
    "#     for i, be in enumerate(response.data):\n",
    "#         assert i == be.index  # double check embeddings are in same order as input\n",
    "#     batch_embeddings = [e.embedding for e in response.data]\n",
    "#     embeddings.extend(batch_embeddings)\n",
    "\n",
    "# talk_summary_df[\"embedding\"] = embeddings\n",
    "\n",
    "for batch_start in range(0, len(talk_summary_df), BATCH_SIZE):\n",
    "    batch_end = batch_start + BATCH_SIZE\n",
    "\n",
    "    batch = talk_summary_df.title[batch_start:batch_end]\n",
    "    print(f\"Batch {batch_start} to {batch_end-1}\")\n",
    "    response = client.embeddings.create(model=EMBEDDING_MODEL, input=batch)\n",
    "    for i, be in enumerate(response.data):\n",
    "        assert i == be.index  # double check embeddings are in same order as input\n",
    "    batch_embeddings = [e.embedding for e in response.data]\n",
    "    talk_title_embeddings.extend(batch_embeddings)\n",
    "\n",
    "talk_summary_df[\"title_embedding\"] = talk_title_embeddings"
   ]
  },
  {
   "cell_type": "code",
   "execution_count": 98,
   "metadata": {},
   "outputs": [],
   "source": [
    "talks_and_titles = talk_summary_df['title'].tolist() + talk_summary_df['content'].tolist()\n",
    "talks_and_titles_embeddings = talk_summary_df['title_embedding'].tolist() + talk_summary_df['embedding'].tolist()"
   ]
  },
  {
   "cell_type": "code",
   "execution_count": 99,
   "metadata": {},
   "outputs": [
    {
     "name": "stdout",
     "output_type": "stream",
     "text": [
      "[t-SNE] Computing 13 nearest neighbors...\n",
      "[t-SNE] Indexed 18 samples in 0.001s...\n",
      "[t-SNE] Computed neighbors for 18 samples in 0.011s...\n",
      "[t-SNE] Computed conditional probabilities for sample 18 / 18\n",
      "[t-SNE] Mean sigma: 0.210611\n",
      "[t-SNE] KL divergence after 250 iterations with early exaggeration: 55.622192\n",
      "[t-SNE] KL divergence after 300 iterations: 1.298760\n"
     ]
    },
    {
     "data": {
      "application/vnd.plotly.v1+json": {
       "config": {
        "plotlyServerURL": "https://plot.ly"
       },
       "data": [
        {
         "customdata": [
          [
           "The Power of the Shell"
          ],
          [
           "Embeddings: A key component for modern AI"
          ],
          [
           "From Web to Mobile Development"
          ],
          [
           "Design Thinking for Developers"
          ],
          [
           "Intro to Technical Writing"
          ],
          [
           "Demystifying Prompt Engineering"
          ],
          [
           "Intro to GitHub and Open Source"
          ],
          [
           "Levelling up Git Rebase"
          ],
          [
           "Modern Server side Web Dev"
          ],
          [
           "The shell is a powerful tool that can help you automate tasks, manage your system, and more. In this talk, we'll cover the basics of the shell, how to write shell scripts, and some useful tips and tricks to help you get the most out of the shell."
          ],
          [
           "Embeddings are an important tool for representing data, both for data visualization and for use in modern AI. In this talk, we will explore the evolution of embeddings, their critical role in data visualization, and their application in Retrieval-Augmented Generation (RAG) within chat systems. Additionally, I’ll discuss multi-modal embeddings that enable models to process multiple data types, such as text and images."
          ],
          [
           "Explore how React Native seamlessly extends our web development skills to mobile app development. Uncover the inner workings of React Native, its advantages, and how it leverages a unified codebase and shared libraries. Additionally, delve into the challenges faced as a React Native developer and discover effective mitigation strategies."
          ],
          [
           "Unlock the power of innovation with Design Thinking for Developers. Geared toward engineers eager to enhance their problem-solving skills, this session offers a comprehensive introduction to the principles of design thinking. Through this talk, participants will explore the iterative process of empathizing, defining, ideating, prototyping, and testing—a proven methodology to foster creative solutions. Get ready to unleash your creative potential and revolutionize your problem-solving approach!"
          ],
          [
           "A crash course in becoming a better writer. Even if you never plan to be a full-time writer, intentionally improving your writing skills is a powerful career move. Becoming a stronger writer helps make you a stronger developer, a stronger teammate, and a stronger candidate for whatever opportunities your future may hold. This session will cover an overview of technical writing and different types of writing in SaaS, tips to improve your writing (with examples), and helpful resources you can explore on your own."
          ],
          [
           "Prompt engineering is the process of structuring text that can be interpreted and understood by a generative AI model, such as ChatGPT. We'll explore what it is, why it's crucial to learn, the benefits it brings, and some practical tips. I firmly believe that mastering this skill can supercharge our ability to use AI effectively, create user-friendly software, stay ethical, and stay ahead in the ever-changing world of AI-powered technology. This talk will cover What is Prompt and Prompt Engineering, Elements of Prompt, Prompt Parameters and Their Significance, Use Cases, Prompting Techniques, and Tips for Crafting Effective Prompts."
          ],
          [
           "In this presentation, Mitch will cover the differences between Git and GitHub and what role they play in Open Source Software at large. Including the dos-and-don'ts of collaborating on GitHub, how to find a project to contribute to, and what contributing looks like from an Open Source Maintainer's perspective."
          ],
          [
           "When working with Git, the rebase command is often stated as being an alternative to Git merge. While this is true in the basic sense, this is only scratching the surface of what Git rebase provides. Even when using a merge-based workflow, I believe there are features of Git rebase that could still be very useful in your toolbox of source control tools. This talk will run through what exactly Git rebase is, as well as some expanded functionality."
          ],
          [
           "Navigating the many methods available and considerations to be made while deploying a website in 2023. The web has existed in some form for the last three decades, and while some of its core remains the same, plenty has changed. Initially, since the browser was simple, most of the interesting dynamic nature of websites came from the server, but as JavaScript become more powerful, and people realized maybe doing more on the client would be better, the server in some cases is only responsible for shooting a small index.html alongside megabytes of JavaScript at the client. However, the bleeding edge of current modern web frameworks is rethinking this approach, and the pendulum is swinging back in the direction of the server, but with an interesting twist."
          ]
         ],
         "hovertemplate": "tsne-2d-one=%{x}<br>tsne-2d-two=%{y}<br>text=%{customdata[0]}<extra></extra>",
         "legendgroup": "",
         "marker": {
          "color": "#636efa",
          "symbol": "circle"
         },
         "mode": "markers",
         "name": "",
         "orientation": "v",
         "showlegend": false,
         "type": "scatter",
         "x": [
          57.74878692626953,
          4.5460615158081055,
          105.49737548828125,
          28.35604476928711,
          6.22297477722168,
          9.195151329040527,
          4.194674491882324,
          10.537729263305664,
          -162.93283081054688,
          -32.6890869140625,
          25.453332901000977,
          78.78697967529297,
          -31.834774017333984,
          44.36994171142578,
          5.345952033996582,
          -9.444647789001465,
          28.391887664794922,
          -54.24936294555664
         ],
         "xaxis": "x",
         "y": [
          -23.593036651611328,
          103.17326354980469,
          48.31447982788086,
          2.455021619796753,
          19.68784523010254,
          56.551361083984375,
          -63.13778305053711,
          -36.176124572753906,
          -16.846763610839844,
          50.17525863647461,
          90.21983337402344,
          8.53978443145752,
          14.357316017150879,
          30.95804786682129,
          80.5504150390625,
          -44.79719161987305,
          -50.888797760009766,
          -51.934932708740234
         ],
         "yaxis": "y"
        }
       ],
       "layout": {
        "legend": {
         "tracegroupgap": 0
        },
        "margin": {
         "t": 60
        },
        "template": {
         "data": {
          "bar": [
           {
            "error_x": {
             "color": "#2a3f5f"
            },
            "error_y": {
             "color": "#2a3f5f"
            },
            "marker": {
             "line": {
              "color": "#E5ECF6",
              "width": 0.5
             },
             "pattern": {
              "fillmode": "overlay",
              "size": 10,
              "solidity": 0.2
             }
            },
            "type": "bar"
           }
          ],
          "barpolar": [
           {
            "marker": {
             "line": {
              "color": "#E5ECF6",
              "width": 0.5
             },
             "pattern": {
              "fillmode": "overlay",
              "size": 10,
              "solidity": 0.2
             }
            },
            "type": "barpolar"
           }
          ],
          "carpet": [
           {
            "aaxis": {
             "endlinecolor": "#2a3f5f",
             "gridcolor": "white",
             "linecolor": "white",
             "minorgridcolor": "white",
             "startlinecolor": "#2a3f5f"
            },
            "baxis": {
             "endlinecolor": "#2a3f5f",
             "gridcolor": "white",
             "linecolor": "white",
             "minorgridcolor": "white",
             "startlinecolor": "#2a3f5f"
            },
            "type": "carpet"
           }
          ],
          "choropleth": [
           {
            "colorbar": {
             "outlinewidth": 0,
             "ticks": ""
            },
            "type": "choropleth"
           }
          ],
          "contour": [
           {
            "colorbar": {
             "outlinewidth": 0,
             "ticks": ""
            },
            "colorscale": [
             [
              0,
              "#0d0887"
             ],
             [
              0.1111111111111111,
              "#46039f"
             ],
             [
              0.2222222222222222,
              "#7201a8"
             ],
             [
              0.3333333333333333,
              "#9c179e"
             ],
             [
              0.4444444444444444,
              "#bd3786"
             ],
             [
              0.5555555555555556,
              "#d8576b"
             ],
             [
              0.6666666666666666,
              "#ed7953"
             ],
             [
              0.7777777777777778,
              "#fb9f3a"
             ],
             [
              0.8888888888888888,
              "#fdca26"
             ],
             [
              1,
              "#f0f921"
             ]
            ],
            "type": "contour"
           }
          ],
          "contourcarpet": [
           {
            "colorbar": {
             "outlinewidth": 0,
             "ticks": ""
            },
            "type": "contourcarpet"
           }
          ],
          "heatmap": [
           {
            "colorbar": {
             "outlinewidth": 0,
             "ticks": ""
            },
            "colorscale": [
             [
              0,
              "#0d0887"
             ],
             [
              0.1111111111111111,
              "#46039f"
             ],
             [
              0.2222222222222222,
              "#7201a8"
             ],
             [
              0.3333333333333333,
              "#9c179e"
             ],
             [
              0.4444444444444444,
              "#bd3786"
             ],
             [
              0.5555555555555556,
              "#d8576b"
             ],
             [
              0.6666666666666666,
              "#ed7953"
             ],
             [
              0.7777777777777778,
              "#fb9f3a"
             ],
             [
              0.8888888888888888,
              "#fdca26"
             ],
             [
              1,
              "#f0f921"
             ]
            ],
            "type": "heatmap"
           }
          ],
          "heatmapgl": [
           {
            "colorbar": {
             "outlinewidth": 0,
             "ticks": ""
            },
            "colorscale": [
             [
              0,
              "#0d0887"
             ],
             [
              0.1111111111111111,
              "#46039f"
             ],
             [
              0.2222222222222222,
              "#7201a8"
             ],
             [
              0.3333333333333333,
              "#9c179e"
             ],
             [
              0.4444444444444444,
              "#bd3786"
             ],
             [
              0.5555555555555556,
              "#d8576b"
             ],
             [
              0.6666666666666666,
              "#ed7953"
             ],
             [
              0.7777777777777778,
              "#fb9f3a"
             ],
             [
              0.8888888888888888,
              "#fdca26"
             ],
             [
              1,
              "#f0f921"
             ]
            ],
            "type": "heatmapgl"
           }
          ],
          "histogram": [
           {
            "marker": {
             "pattern": {
              "fillmode": "overlay",
              "size": 10,
              "solidity": 0.2
             }
            },
            "type": "histogram"
           }
          ],
          "histogram2d": [
           {
            "colorbar": {
             "outlinewidth": 0,
             "ticks": ""
            },
            "colorscale": [
             [
              0,
              "#0d0887"
             ],
             [
              0.1111111111111111,
              "#46039f"
             ],
             [
              0.2222222222222222,
              "#7201a8"
             ],
             [
              0.3333333333333333,
              "#9c179e"
             ],
             [
              0.4444444444444444,
              "#bd3786"
             ],
             [
              0.5555555555555556,
              "#d8576b"
             ],
             [
              0.6666666666666666,
              "#ed7953"
             ],
             [
              0.7777777777777778,
              "#fb9f3a"
             ],
             [
              0.8888888888888888,
              "#fdca26"
             ],
             [
              1,
              "#f0f921"
             ]
            ],
            "type": "histogram2d"
           }
          ],
          "histogram2dcontour": [
           {
            "colorbar": {
             "outlinewidth": 0,
             "ticks": ""
            },
            "colorscale": [
             [
              0,
              "#0d0887"
             ],
             [
              0.1111111111111111,
              "#46039f"
             ],
             [
              0.2222222222222222,
              "#7201a8"
             ],
             [
              0.3333333333333333,
              "#9c179e"
             ],
             [
              0.4444444444444444,
              "#bd3786"
             ],
             [
              0.5555555555555556,
              "#d8576b"
             ],
             [
              0.6666666666666666,
              "#ed7953"
             ],
             [
              0.7777777777777778,
              "#fb9f3a"
             ],
             [
              0.8888888888888888,
              "#fdca26"
             ],
             [
              1,
              "#f0f921"
             ]
            ],
            "type": "histogram2dcontour"
           }
          ],
          "mesh3d": [
           {
            "colorbar": {
             "outlinewidth": 0,
             "ticks": ""
            },
            "type": "mesh3d"
           }
          ],
          "parcoords": [
           {
            "line": {
             "colorbar": {
              "outlinewidth": 0,
              "ticks": ""
             }
            },
            "type": "parcoords"
           }
          ],
          "pie": [
           {
            "automargin": true,
            "type": "pie"
           }
          ],
          "scatter": [
           {
            "fillpattern": {
             "fillmode": "overlay",
             "size": 10,
             "solidity": 0.2
            },
            "type": "scatter"
           }
          ],
          "scatter3d": [
           {
            "line": {
             "colorbar": {
              "outlinewidth": 0,
              "ticks": ""
             }
            },
            "marker": {
             "colorbar": {
              "outlinewidth": 0,
              "ticks": ""
             }
            },
            "type": "scatter3d"
           }
          ],
          "scattercarpet": [
           {
            "marker": {
             "colorbar": {
              "outlinewidth": 0,
              "ticks": ""
             }
            },
            "type": "scattercarpet"
           }
          ],
          "scattergeo": [
           {
            "marker": {
             "colorbar": {
              "outlinewidth": 0,
              "ticks": ""
             }
            },
            "type": "scattergeo"
           }
          ],
          "scattergl": [
           {
            "marker": {
             "colorbar": {
              "outlinewidth": 0,
              "ticks": ""
             }
            },
            "type": "scattergl"
           }
          ],
          "scattermapbox": [
           {
            "marker": {
             "colorbar": {
              "outlinewidth": 0,
              "ticks": ""
             }
            },
            "type": "scattermapbox"
           }
          ],
          "scatterpolar": [
           {
            "marker": {
             "colorbar": {
              "outlinewidth": 0,
              "ticks": ""
             }
            },
            "type": "scatterpolar"
           }
          ],
          "scatterpolargl": [
           {
            "marker": {
             "colorbar": {
              "outlinewidth": 0,
              "ticks": ""
             }
            },
            "type": "scatterpolargl"
           }
          ],
          "scatterternary": [
           {
            "marker": {
             "colorbar": {
              "outlinewidth": 0,
              "ticks": ""
             }
            },
            "type": "scatterternary"
           }
          ],
          "surface": [
           {
            "colorbar": {
             "outlinewidth": 0,
             "ticks": ""
            },
            "colorscale": [
             [
              0,
              "#0d0887"
             ],
             [
              0.1111111111111111,
              "#46039f"
             ],
             [
              0.2222222222222222,
              "#7201a8"
             ],
             [
              0.3333333333333333,
              "#9c179e"
             ],
             [
              0.4444444444444444,
              "#bd3786"
             ],
             [
              0.5555555555555556,
              "#d8576b"
             ],
             [
              0.6666666666666666,
              "#ed7953"
             ],
             [
              0.7777777777777778,
              "#fb9f3a"
             ],
             [
              0.8888888888888888,
              "#fdca26"
             ],
             [
              1,
              "#f0f921"
             ]
            ],
            "type": "surface"
           }
          ],
          "table": [
           {
            "cells": {
             "fill": {
              "color": "#EBF0F8"
             },
             "line": {
              "color": "white"
             }
            },
            "header": {
             "fill": {
              "color": "#C8D4E3"
             },
             "line": {
              "color": "white"
             }
            },
            "type": "table"
           }
          ]
         },
         "layout": {
          "annotationdefaults": {
           "arrowcolor": "#2a3f5f",
           "arrowhead": 0,
           "arrowwidth": 1
          },
          "autotypenumbers": "strict",
          "coloraxis": {
           "colorbar": {
            "outlinewidth": 0,
            "ticks": ""
           }
          },
          "colorscale": {
           "diverging": [
            [
             0,
             "#8e0152"
            ],
            [
             0.1,
             "#c51b7d"
            ],
            [
             0.2,
             "#de77ae"
            ],
            [
             0.3,
             "#f1b6da"
            ],
            [
             0.4,
             "#fde0ef"
            ],
            [
             0.5,
             "#f7f7f7"
            ],
            [
             0.6,
             "#e6f5d0"
            ],
            [
             0.7,
             "#b8e186"
            ],
            [
             0.8,
             "#7fbc41"
            ],
            [
             0.9,
             "#4d9221"
            ],
            [
             1,
             "#276419"
            ]
           ],
           "sequential": [
            [
             0,
             "#0d0887"
            ],
            [
             0.1111111111111111,
             "#46039f"
            ],
            [
             0.2222222222222222,
             "#7201a8"
            ],
            [
             0.3333333333333333,
             "#9c179e"
            ],
            [
             0.4444444444444444,
             "#bd3786"
            ],
            [
             0.5555555555555556,
             "#d8576b"
            ],
            [
             0.6666666666666666,
             "#ed7953"
            ],
            [
             0.7777777777777778,
             "#fb9f3a"
            ],
            [
             0.8888888888888888,
             "#fdca26"
            ],
            [
             1,
             "#f0f921"
            ]
           ],
           "sequentialminus": [
            [
             0,
             "#0d0887"
            ],
            [
             0.1111111111111111,
             "#46039f"
            ],
            [
             0.2222222222222222,
             "#7201a8"
            ],
            [
             0.3333333333333333,
             "#9c179e"
            ],
            [
             0.4444444444444444,
             "#bd3786"
            ],
            [
             0.5555555555555556,
             "#d8576b"
            ],
            [
             0.6666666666666666,
             "#ed7953"
            ],
            [
             0.7777777777777778,
             "#fb9f3a"
            ],
            [
             0.8888888888888888,
             "#fdca26"
            ],
            [
             1,
             "#f0f921"
            ]
           ]
          },
          "colorway": [
           "#636efa",
           "#EF553B",
           "#00cc96",
           "#ab63fa",
           "#FFA15A",
           "#19d3f3",
           "#FF6692",
           "#B6E880",
           "#FF97FF",
           "#FECB52"
          ],
          "font": {
           "color": "#2a3f5f"
          },
          "geo": {
           "bgcolor": "white",
           "lakecolor": "white",
           "landcolor": "#E5ECF6",
           "showlakes": true,
           "showland": true,
           "subunitcolor": "white"
          },
          "hoverlabel": {
           "align": "left"
          },
          "hovermode": "closest",
          "mapbox": {
           "style": "light"
          },
          "paper_bgcolor": "white",
          "plot_bgcolor": "#E5ECF6",
          "polar": {
           "angularaxis": {
            "gridcolor": "white",
            "linecolor": "white",
            "ticks": ""
           },
           "bgcolor": "#E5ECF6",
           "radialaxis": {
            "gridcolor": "white",
            "linecolor": "white",
            "ticks": ""
           }
          },
          "scene": {
           "xaxis": {
            "backgroundcolor": "#E5ECF6",
            "gridcolor": "white",
            "gridwidth": 2,
            "linecolor": "white",
            "showbackground": true,
            "ticks": "",
            "zerolinecolor": "white"
           },
           "yaxis": {
            "backgroundcolor": "#E5ECF6",
            "gridcolor": "white",
            "gridwidth": 2,
            "linecolor": "white",
            "showbackground": true,
            "ticks": "",
            "zerolinecolor": "white"
           },
           "zaxis": {
            "backgroundcolor": "#E5ECF6",
            "gridcolor": "white",
            "gridwidth": 2,
            "linecolor": "white",
            "showbackground": true,
            "ticks": "",
            "zerolinecolor": "white"
           }
          },
          "shapedefaults": {
           "line": {
            "color": "#2a3f5f"
           }
          },
          "ternary": {
           "aaxis": {
            "gridcolor": "white",
            "linecolor": "white",
            "ticks": ""
           },
           "baxis": {
            "gridcolor": "white",
            "linecolor": "white",
            "ticks": ""
           },
           "bgcolor": "#E5ECF6",
           "caxis": {
            "gridcolor": "white",
            "linecolor": "white",
            "ticks": ""
           }
          },
          "title": {
           "x": 0.05
          },
          "xaxis": {
           "automargin": true,
           "gridcolor": "white",
           "linecolor": "white",
           "ticks": "",
           "title": {
            "standoff": 15
           },
           "zerolinecolor": "white",
           "zerolinewidth": 2
          },
          "yaxis": {
           "automargin": true,
           "gridcolor": "white",
           "linecolor": "white",
           "ticks": "",
           "title": {
            "standoff": 15
           },
           "zerolinecolor": "white",
           "zerolinewidth": 2
          }
         }
        },
        "xaxis": {
         "anchor": "y",
         "domain": [
          0,
          1
         ],
         "title": {
          "text": "tsne-2d-one"
         }
        },
        "yaxis": {
         "anchor": "x",
         "domain": [
          0,
          1
         ],
         "title": {
          "text": "tsne-2d-two"
         }
        }
       }
      }
     },
     "metadata": {},
     "output_type": "display_data"
    }
   ],
   "source": [
    "from sklearn.decomposition import PCA\n",
    "from sklearn.manifold import TSNE   \n",
    "\n",
    "# PLOTLY\n",
    "\n",
    "import plotly.express as px\n",
    "\n",
    "pca = PCA(n_components=2)\n",
    "pca_result = pca.fit_transform(talks_and_titles_embeddings)\n",
    "\n",
    "tsne = TSNE(n_components=2, verbose=1, perplexity=4, n_iter=300)\n",
    "tsne_results = tsne.fit_transform(pca_result)\n",
    "\n",
    "\n",
    "# plot\n",
    "\n",
    "talks_and_titles_df = pd.DataFrame(talks_and_titles, columns=['text'])\n",
    "talks_and_titles_df['tsne-2d-one'] = tsne_results[:,0]\n",
    "talks_and_titles_df['tsne-2d-two'] = tsne_results[:,1]\n",
    "\n",
    "fig = px.scatter(\n",
    "    talks_and_titles_df, x=\"tsne-2d-one\", y=\"tsne-2d-two\",\n",
    "    hover_data=[\"text\"]\n",
    ")\n",
    "\n",
    "fig.show()\n"
   ]
  },
  {
   "cell_type": "code",
   "execution_count": null,
   "metadata": {},
   "outputs": [],
   "source": []
  },
  {
   "cell_type": "code",
   "execution_count": 28,
   "metadata": {},
   "outputs": [],
   "source": [
    "sentances = []\n",
    "for talk in last_years_talks:\n",
    "    sentances.append({'content': talk['title'], 'author': talk['speaker_name']})\n",
    "    for sentence in talk['content'].split('. '):\n",
    "        sentances.append({'content': sentence, 'author': talk['speaker_name']})\n",
    "\n",
    "sentances_df = pd.DataFrame.from_records(sentances)"
   ]
  },
  {
   "cell_type": "code",
   "execution_count": 30,
   "metadata": {},
   "outputs": [
    {
     "data": {
      "text/html": [
       "<div>\n",
       "<style scoped>\n",
       "    .dataframe tbody tr th:only-of-type {\n",
       "        vertical-align: middle;\n",
       "    }\n",
       "\n",
       "    .dataframe tbody tr th {\n",
       "        vertical-align: top;\n",
       "    }\n",
       "\n",
       "    .dataframe thead th {\n",
       "        text-align: right;\n",
       "    }\n",
       "</style>\n",
       "<table border=\"1\" class=\"dataframe\">\n",
       "  <thead>\n",
       "    <tr style=\"text-align: right;\">\n",
       "      <th></th>\n",
       "      <th>content</th>\n",
       "      <th>author</th>\n",
       "    </tr>\n",
       "  </thead>\n",
       "  <tbody>\n",
       "    <tr>\n",
       "      <th>0</th>\n",
       "      <td>From Web to Mobile Development</td>\n",
       "      <td>Shawn Chen</td>\n",
       "    </tr>\n",
       "    <tr>\n",
       "      <th>1</th>\n",
       "      <td>Explore how React Native seamlessly extends ou...</td>\n",
       "      <td>Shawn Chen</td>\n",
       "    </tr>\n",
       "    <tr>\n",
       "      <th>2</th>\n",
       "      <td>Uncover the inner workings of React Native, it...</td>\n",
       "      <td>Shawn Chen</td>\n",
       "    </tr>\n",
       "    <tr>\n",
       "      <th>3</th>\n",
       "      <td>Additionally, delve into the challenges faced ...</td>\n",
       "      <td>Shawn Chen</td>\n",
       "    </tr>\n",
       "    <tr>\n",
       "      <th>4</th>\n",
       "      <td>Design Thinking for Developers</td>\n",
       "      <td>Lesley Chard</td>\n",
       "    </tr>\n",
       "  </tbody>\n",
       "</table>\n",
       "</div>"
      ],
      "text/plain": [
       "                                             content        author\n",
       "0                     From Web to Mobile Development    Shawn Chen\n",
       "1  Explore how React Native seamlessly extends ou...    Shawn Chen\n",
       "2  Uncover the inner workings of React Native, it...    Shawn Chen\n",
       "3  Additionally, delve into the challenges faced ...    Shawn Chen\n",
       "4                     Design Thinking for Developers  Lesley Chard"
      ]
     },
     "execution_count": 30,
     "metadata": {},
     "output_type": "execute_result"
    }
   ],
   "source": [
    "sentances_df.head()"
   ]
  },
  {
   "cell_type": "code",
   "execution_count": null,
   "metadata": {},
   "outputs": [],
   "source": []
  },
  {
   "cell_type": "code",
   "execution_count": 33,
   "metadata": {},
   "outputs": [
    {
     "name": "stdout",
     "output_type": "stream",
     "text": [
      "Batch 0 to 99\n",
      "[t-SNE] Computing 31 nearest neighbors...\n",
      "[t-SNE] Indexed 32 samples in 0.000s...\n",
      "[t-SNE] Computed neighbors for 32 samples in 0.028s...\n",
      "[t-SNE] Computed conditional probabilities for sample 32 / 32\n",
      "[t-SNE] Mean sigma: 0.156188\n",
      "[t-SNE] KL divergence after 250 iterations with early exaggeration: 55.574989\n",
      "[t-SNE] KL divergence after 300 iterations: 0.248897\n"
     ]
    }
   ],
   "source": [
    "import plotly.express as px \n",
    "\n",
    "sentance_embeddings = []\n",
    "for batch_start in range(0, len(sentances_df), BATCH_SIZE):\n",
    "    batch_end = batch_start + BATCH_SIZE\n",
    "\n",
    "    batch = sentances_df.content[batch_start:batch_end]\n",
    "    print(f\"Batch {batch_start} to {batch_end-1}\")\n",
    "    response = client.embeddings.create(model=EMBEDDING_MODEL, input=batch)\n",
    "    for i, be in enumerate(response.data):\n",
    "        assert i == be.index  # double check embeddings are in same order as input\n",
    "    batch_embeddings = [e.embedding for e in response.data]\n",
    "    sentance_embeddings.extend(batch_embeddings)\n",
    "\n",
    "sentances_df[\"embedding\"] = sentance_embeddings\n",
    "\n",
    "pca = PCA(n_components=2) # similar to t-SNE\n",
    "pca_result = pca.fit_transform(sentance_embeddings)\n",
    "\n",
    "tsne = TSNE(n_components=2, verbose=1, perplexity=10, n_iter=300)\n",
    "tsne_results = tsne.fit_transform(pca_result)\n",
    "\n",
    "sentances_df['tsne-2d-one'] = tsne_results[:,0]\n",
    "sentances_df['tsne-2d-two'] = tsne_results[:,1]\n"
   ]
  },
  {
   "cell_type": "code",
   "execution_count": 34,
   "metadata": {},
   "outputs": [
    {
     "data": {
      "application/vnd.plotly.v1+json": {
       "config": {
        "plotlyServerURL": "https://plot.ly"
       },
       "data": [
        {
         "customdata": [
          [
           "From Web to Mobile Development",
           "Shawn Chen"
          ],
          [
           "Explore how React Native seamlessly extends our web development skills to mobile app development",
           "Shawn Chen"
          ],
          [
           "Uncover the inner workings of React Native, its advantages, and how it leverages a unified codebase and shared libraries",
           "Shawn Chen"
          ],
          [
           "Additionally, delve into the challenges faced as a React Native developer and discover effective mitigation strategies.",
           "Shawn Chen"
          ]
         ],
         "hovertemplate": "author=%{customdata[1]}<br>tsne-2d-one=%{x}<br>tsne-2d-two=%{y}<br>content=%{customdata[0]}<extra></extra>",
         "legendgroup": "Shawn Chen",
         "marker": {
          "color": "#636efa",
          "symbol": "circle"
         },
         "mode": "markers",
         "name": "Shawn Chen",
         "orientation": "v",
         "showlegend": true,
         "type": "scatter",
         "x": [
          -5.858944416046143,
          -3.711925983428955,
          0.6248943209648132,
          -1.671021580696106
         ],
         "xaxis": "x",
         "y": [
          10.043741226196289,
          6.431899070739746,
          6.250218868255615,
          3.4462215900421143
         ],
         "yaxis": "y"
        },
        {
         "customdata": [
          [
           "Design Thinking for Developers",
           "Lesley Chard"
          ],
          [
           "Unlock the power of innovation with Design Thinking for Developers",
           "Lesley Chard"
          ],
          [
           "Geared toward engineers eager to enhance their problem-solving skills, this session offers a comprehensive introduction to the principles of design thinking",
           "Lesley Chard"
          ],
          [
           "Through this talk, participants will explore the iterative process of empathizing, defining, ideating, prototyping, and testing—a proven methodology to foster creative solutions",
           "Lesley Chard"
          ],
          [
           "Get ready to unleash your creative potential and revolutionize your problem-solving approach!",
           "Lesley Chard"
          ]
         ],
         "hovertemplate": "author=%{customdata[1]}<br>tsne-2d-one=%{x}<br>tsne-2d-two=%{y}<br>content=%{customdata[0]}<extra></extra>",
         "legendgroup": "Lesley Chard",
         "marker": {
          "color": "#EF553B",
          "symbol": "circle"
         },
         "mode": "markers",
         "name": "Lesley Chard",
         "orientation": "v",
         "showlegend": true,
         "type": "scatter",
         "x": [
          -12.754863739013672,
          -11.310912132263184,
          -1.6582697629928589,
          -2.229078769683838,
          1.2926785945892334
         ],
         "xaxis": "x",
         "y": [
          -11.395657539367676,
          -9.295373916625977,
          -21.16058349609375,
          -15.514945030212402,
          -13.702912330627441
         ],
         "yaxis": "y"
        },
        {
         "customdata": [
          [
           "Intro to Technical Writing",
           "Meagan Campbell"
          ],
          [
           "A crash course in becoming a better writer",
           "Meagan Campbell"
          ],
          [
           "Even if you never plan to be a full-time writer, intentionally improving your writing skills is a powerful career move",
           "Meagan Campbell"
          ],
          [
           "Becoming a stronger writer helps make you a stronger developer, a stronger teammate, and a stronger candidate for whatever opportunities your future may hold",
           "Meagan Campbell"
          ],
          [
           "This session will cover an overview of technical writing and different types of writing in SaaS, tips to improve your writing (with examples), and helpful resources you can explore on your own.",
           "Meagan Campbell"
          ]
         ],
         "hovertemplate": "author=%{customdata[1]}<br>tsne-2d-one=%{x}<br>tsne-2d-two=%{y}<br>content=%{customdata[0]}<extra></extra>",
         "legendgroup": "Meagan Campbell",
         "marker": {
          "color": "#00cc96",
          "symbol": "circle"
         },
         "mode": "markers",
         "name": "Meagan Campbell",
         "orientation": "v",
         "showlegend": true,
         "type": "scatter",
         "x": [
          1.3862659931182861,
          5.073293209075928,
          -2.194377899169922,
          2.87038516998291,
          4.734859466552734
         ],
         "xaxis": "x",
         "y": [
          -17.92702293395996,
          -21.43331527709961,
          -9.512372016906738,
          -9.305426597595215,
          -12.753715515136719
         ],
         "yaxis": "y"
        },
        {
         "customdata": [
          [
           "Demystifying Prompt Engineering",
           "Sushmitha Batchu"
          ],
          [
           "Prompt engineering is the process of structuring text that can be interpreted and understood by a generative AI model, such as ChatGPT",
           "Sushmitha Batchu"
          ],
          [
           "We'll explore what it is, why it's crucial to learn, the benefits it brings, and some practical tips",
           "Sushmitha Batchu"
          ],
          [
           "I firmly believe that mastering this skill can supercharge our ability to use AI effectively, create user-friendly software, stay ethical, and stay ahead in the ever-changing world of AI-powered technology",
           "Sushmitha Batchu"
          ],
          [
           "This talk will cover What is Prompt and Prompt Engineering, Elements of Prompt, Prompt Parameters and Their Significance, Use Cases, Prompting Techniques, and Tips for Crafting Effective Prompts.",
           "Sushmitha Batchu"
          ]
         ],
         "hovertemplate": "author=%{customdata[1]}<br>tsne-2d-one=%{x}<br>tsne-2d-two=%{y}<br>content=%{customdata[0]}<extra></extra>",
         "legendgroup": "Sushmitha Batchu",
         "marker": {
          "color": "#ab63fa",
          "symbol": "circle"
         },
         "mode": "markers",
         "name": "Sushmitha Batchu",
         "orientation": "v",
         "showlegend": true,
         "type": "scatter",
         "x": [
          -6.120389938354492,
          5.16594934463501,
          6.941229820251465,
          9.17562484741211,
          -4.917078495025635
         ],
         "xaxis": "x",
         "y": [
          -15.84546184539795,
          -16.060396194458008,
          -8.484235763549805,
          -11.4636812210083,
          -20.22378921508789
         ],
         "yaxis": "y"
        },
        {
         "customdata": [
          [
           "Intro to GitHub and Open Source",
           "Mitchell Hynes"
          ],
          [
           "In this presentation, Mitch will cover the differences between Git and GitHub and what role they play in Open Source Software at large",
           "Mitchell Hynes"
          ],
          [
           "Including the dos-and-don'ts of collaborating on GitHub, how to find a project to contribute to, and what contributing looks like from an Open Source Maintainer's perspective.",
           "Mitchell Hynes"
          ]
         ],
         "hovertemplate": "author=%{customdata[1]}<br>tsne-2d-one=%{x}<br>tsne-2d-two=%{y}<br>content=%{customdata[0]}<extra></extra>",
         "legendgroup": "Mitchell Hynes",
         "marker": {
          "color": "#FFA15A",
          "symbol": "circle"
         },
         "mode": "markers",
         "name": "Mitchell Hynes",
         "orientation": "v",
         "showlegend": true,
         "type": "scatter",
         "x": [
          9.055221557617188,
          7.855095863342285,
          9.589594841003418
         ],
         "xaxis": "x",
         "y": [
          17.86146354675293,
          21.10044288635254,
          15.241344451904297
         ],
         "yaxis": "y"
        },
        {
         "customdata": [
          [
           "Levelling up Git Rebase",
           "Tim Oram"
          ],
          [
           "When working with Git, the rebase command is often stated as being an alternative to Git merge",
           "Tim Oram"
          ],
          [
           "While this is true in the basic sense, this is only scratching the surface of what Git rebase provides",
           "Tim Oram"
          ],
          [
           "Even when using a merge-based workflow, I believe there are features of Git rebase that could still be very useful in your toolbox of source control tools",
           "Tim Oram"
          ],
          [
           "This talk will run through what exactly Git rebase is, as well as some expanded functionality.",
           "Tim Oram"
          ]
         ],
         "hovertemplate": "author=%{customdata[1]}<br>tsne-2d-one=%{x}<br>tsne-2d-two=%{y}<br>content=%{customdata[0]}<extra></extra>",
         "legendgroup": "Tim Oram",
         "marker": {
          "color": "#19d3f3",
          "symbol": "circle"
         },
         "mode": "markers",
         "name": "Tim Oram",
         "orientation": "v",
         "showlegend": true,
         "type": "scatter",
         "x": [
          1.1753438711166382,
          3.5026822090148926,
          6.972517490386963,
          7.758646011352539,
          4.297152996063232
         ],
         "xaxis": "x",
         "y": [
          25.156991958618164,
          28.225812911987305,
          28.405826568603516,
          24.717164993286133,
          23.628238677978516
         ],
         "yaxis": "y"
        },
        {
         "customdata": [
          [
           "Modern Server side Web Dev",
           "Jack Harrhy"
          ],
          [
           "Navigating the many methods available and considerations to be made while deploying a website in 2023",
           "Jack Harrhy"
          ],
          [
           "The web has existed in some form for the last three decades, and while some of its core remains the same, plenty has changed",
           "Jack Harrhy"
          ],
          [
           "Initially, since the browser was simple, most of the interesting dynamic nature of websites came from the server, but as JavaScript become more powerful, and people realized maybe doing more on the client would be better, the server in some cases is only responsible for shooting a small index.html alongside megabytes of JavaScript at the client",
           "Jack Harrhy"
          ],
          [
           "However, the bleeding edge of current modern web frameworks is rethinking this approach, and the pendulum is swinging back in the direction of the server, but with an interesting twist.",
           "Jack Harrhy"
          ]
         ],
         "hovertemplate": "author=%{customdata[1]}<br>tsne-2d-one=%{x}<br>tsne-2d-two=%{y}<br>content=%{customdata[0]}<extra></extra>",
         "legendgroup": "Jack Harrhy",
         "marker": {
          "color": "#FF6692",
          "symbol": "circle"
         },
         "mode": "markers",
         "name": "Jack Harrhy",
         "orientation": "v",
         "showlegend": true,
         "type": "scatter",
         "x": [
          -9.263284683227539,
          -7.622524738311768,
          -7.71285343170166,
          -11.978796005249023,
          -0.8445186018943787
         ],
         "xaxis": "x",
         "y": [
          9.326333045959473,
          13.189764976501465,
          5.890704154968262,
          8.720171928405762,
          10.309197425842285
         ],
         "yaxis": "y"
        }
       ],
       "layout": {
        "legend": {
         "title": {
          "text": "author"
         },
         "tracegroupgap": 0
        },
        "margin": {
         "t": 60
        },
        "template": {
         "data": {
          "bar": [
           {
            "error_x": {
             "color": "#2a3f5f"
            },
            "error_y": {
             "color": "#2a3f5f"
            },
            "marker": {
             "line": {
              "color": "#E5ECF6",
              "width": 0.5
             },
             "pattern": {
              "fillmode": "overlay",
              "size": 10,
              "solidity": 0.2
             }
            },
            "type": "bar"
           }
          ],
          "barpolar": [
           {
            "marker": {
             "line": {
              "color": "#E5ECF6",
              "width": 0.5
             },
             "pattern": {
              "fillmode": "overlay",
              "size": 10,
              "solidity": 0.2
             }
            },
            "type": "barpolar"
           }
          ],
          "carpet": [
           {
            "aaxis": {
             "endlinecolor": "#2a3f5f",
             "gridcolor": "white",
             "linecolor": "white",
             "minorgridcolor": "white",
             "startlinecolor": "#2a3f5f"
            },
            "baxis": {
             "endlinecolor": "#2a3f5f",
             "gridcolor": "white",
             "linecolor": "white",
             "minorgridcolor": "white",
             "startlinecolor": "#2a3f5f"
            },
            "type": "carpet"
           }
          ],
          "choropleth": [
           {
            "colorbar": {
             "outlinewidth": 0,
             "ticks": ""
            },
            "type": "choropleth"
           }
          ],
          "contour": [
           {
            "colorbar": {
             "outlinewidth": 0,
             "ticks": ""
            },
            "colorscale": [
             [
              0,
              "#0d0887"
             ],
             [
              0.1111111111111111,
              "#46039f"
             ],
             [
              0.2222222222222222,
              "#7201a8"
             ],
             [
              0.3333333333333333,
              "#9c179e"
             ],
             [
              0.4444444444444444,
              "#bd3786"
             ],
             [
              0.5555555555555556,
              "#d8576b"
             ],
             [
              0.6666666666666666,
              "#ed7953"
             ],
             [
              0.7777777777777778,
              "#fb9f3a"
             ],
             [
              0.8888888888888888,
              "#fdca26"
             ],
             [
              1,
              "#f0f921"
             ]
            ],
            "type": "contour"
           }
          ],
          "contourcarpet": [
           {
            "colorbar": {
             "outlinewidth": 0,
             "ticks": ""
            },
            "type": "contourcarpet"
           }
          ],
          "heatmap": [
           {
            "colorbar": {
             "outlinewidth": 0,
             "ticks": ""
            },
            "colorscale": [
             [
              0,
              "#0d0887"
             ],
             [
              0.1111111111111111,
              "#46039f"
             ],
             [
              0.2222222222222222,
              "#7201a8"
             ],
             [
              0.3333333333333333,
              "#9c179e"
             ],
             [
              0.4444444444444444,
              "#bd3786"
             ],
             [
              0.5555555555555556,
              "#d8576b"
             ],
             [
              0.6666666666666666,
              "#ed7953"
             ],
             [
              0.7777777777777778,
              "#fb9f3a"
             ],
             [
              0.8888888888888888,
              "#fdca26"
             ],
             [
              1,
              "#f0f921"
             ]
            ],
            "type": "heatmap"
           }
          ],
          "heatmapgl": [
           {
            "colorbar": {
             "outlinewidth": 0,
             "ticks": ""
            },
            "colorscale": [
             [
              0,
              "#0d0887"
             ],
             [
              0.1111111111111111,
              "#46039f"
             ],
             [
              0.2222222222222222,
              "#7201a8"
             ],
             [
              0.3333333333333333,
              "#9c179e"
             ],
             [
              0.4444444444444444,
              "#bd3786"
             ],
             [
              0.5555555555555556,
              "#d8576b"
             ],
             [
              0.6666666666666666,
              "#ed7953"
             ],
             [
              0.7777777777777778,
              "#fb9f3a"
             ],
             [
              0.8888888888888888,
              "#fdca26"
             ],
             [
              1,
              "#f0f921"
             ]
            ],
            "type": "heatmapgl"
           }
          ],
          "histogram": [
           {
            "marker": {
             "pattern": {
              "fillmode": "overlay",
              "size": 10,
              "solidity": 0.2
             }
            },
            "type": "histogram"
           }
          ],
          "histogram2d": [
           {
            "colorbar": {
             "outlinewidth": 0,
             "ticks": ""
            },
            "colorscale": [
             [
              0,
              "#0d0887"
             ],
             [
              0.1111111111111111,
              "#46039f"
             ],
             [
              0.2222222222222222,
              "#7201a8"
             ],
             [
              0.3333333333333333,
              "#9c179e"
             ],
             [
              0.4444444444444444,
              "#bd3786"
             ],
             [
              0.5555555555555556,
              "#d8576b"
             ],
             [
              0.6666666666666666,
              "#ed7953"
             ],
             [
              0.7777777777777778,
              "#fb9f3a"
             ],
             [
              0.8888888888888888,
              "#fdca26"
             ],
             [
              1,
              "#f0f921"
             ]
            ],
            "type": "histogram2d"
           }
          ],
          "histogram2dcontour": [
           {
            "colorbar": {
             "outlinewidth": 0,
             "ticks": ""
            },
            "colorscale": [
             [
              0,
              "#0d0887"
             ],
             [
              0.1111111111111111,
              "#46039f"
             ],
             [
              0.2222222222222222,
              "#7201a8"
             ],
             [
              0.3333333333333333,
              "#9c179e"
             ],
             [
              0.4444444444444444,
              "#bd3786"
             ],
             [
              0.5555555555555556,
              "#d8576b"
             ],
             [
              0.6666666666666666,
              "#ed7953"
             ],
             [
              0.7777777777777778,
              "#fb9f3a"
             ],
             [
              0.8888888888888888,
              "#fdca26"
             ],
             [
              1,
              "#f0f921"
             ]
            ],
            "type": "histogram2dcontour"
           }
          ],
          "mesh3d": [
           {
            "colorbar": {
             "outlinewidth": 0,
             "ticks": ""
            },
            "type": "mesh3d"
           }
          ],
          "parcoords": [
           {
            "line": {
             "colorbar": {
              "outlinewidth": 0,
              "ticks": ""
             }
            },
            "type": "parcoords"
           }
          ],
          "pie": [
           {
            "automargin": true,
            "type": "pie"
           }
          ],
          "scatter": [
           {
            "fillpattern": {
             "fillmode": "overlay",
             "size": 10,
             "solidity": 0.2
            },
            "type": "scatter"
           }
          ],
          "scatter3d": [
           {
            "line": {
             "colorbar": {
              "outlinewidth": 0,
              "ticks": ""
             }
            },
            "marker": {
             "colorbar": {
              "outlinewidth": 0,
              "ticks": ""
             }
            },
            "type": "scatter3d"
           }
          ],
          "scattercarpet": [
           {
            "marker": {
             "colorbar": {
              "outlinewidth": 0,
              "ticks": ""
             }
            },
            "type": "scattercarpet"
           }
          ],
          "scattergeo": [
           {
            "marker": {
             "colorbar": {
              "outlinewidth": 0,
              "ticks": ""
             }
            },
            "type": "scattergeo"
           }
          ],
          "scattergl": [
           {
            "marker": {
             "colorbar": {
              "outlinewidth": 0,
              "ticks": ""
             }
            },
            "type": "scattergl"
           }
          ],
          "scattermapbox": [
           {
            "marker": {
             "colorbar": {
              "outlinewidth": 0,
              "ticks": ""
             }
            },
            "type": "scattermapbox"
           }
          ],
          "scatterpolar": [
           {
            "marker": {
             "colorbar": {
              "outlinewidth": 0,
              "ticks": ""
             }
            },
            "type": "scatterpolar"
           }
          ],
          "scatterpolargl": [
           {
            "marker": {
             "colorbar": {
              "outlinewidth": 0,
              "ticks": ""
             }
            },
            "type": "scatterpolargl"
           }
          ],
          "scatterternary": [
           {
            "marker": {
             "colorbar": {
              "outlinewidth": 0,
              "ticks": ""
             }
            },
            "type": "scatterternary"
           }
          ],
          "surface": [
           {
            "colorbar": {
             "outlinewidth": 0,
             "ticks": ""
            },
            "colorscale": [
             [
              0,
              "#0d0887"
             ],
             [
              0.1111111111111111,
              "#46039f"
             ],
             [
              0.2222222222222222,
              "#7201a8"
             ],
             [
              0.3333333333333333,
              "#9c179e"
             ],
             [
              0.4444444444444444,
              "#bd3786"
             ],
             [
              0.5555555555555556,
              "#d8576b"
             ],
             [
              0.6666666666666666,
              "#ed7953"
             ],
             [
              0.7777777777777778,
              "#fb9f3a"
             ],
             [
              0.8888888888888888,
              "#fdca26"
             ],
             [
              1,
              "#f0f921"
             ]
            ],
            "type": "surface"
           }
          ],
          "table": [
           {
            "cells": {
             "fill": {
              "color": "#EBF0F8"
             },
             "line": {
              "color": "white"
             }
            },
            "header": {
             "fill": {
              "color": "#C8D4E3"
             },
             "line": {
              "color": "white"
             }
            },
            "type": "table"
           }
          ]
         },
         "layout": {
          "annotationdefaults": {
           "arrowcolor": "#2a3f5f",
           "arrowhead": 0,
           "arrowwidth": 1
          },
          "autotypenumbers": "strict",
          "coloraxis": {
           "colorbar": {
            "outlinewidth": 0,
            "ticks": ""
           }
          },
          "colorscale": {
           "diverging": [
            [
             0,
             "#8e0152"
            ],
            [
             0.1,
             "#c51b7d"
            ],
            [
             0.2,
             "#de77ae"
            ],
            [
             0.3,
             "#f1b6da"
            ],
            [
             0.4,
             "#fde0ef"
            ],
            [
             0.5,
             "#f7f7f7"
            ],
            [
             0.6,
             "#e6f5d0"
            ],
            [
             0.7,
             "#b8e186"
            ],
            [
             0.8,
             "#7fbc41"
            ],
            [
             0.9,
             "#4d9221"
            ],
            [
             1,
             "#276419"
            ]
           ],
           "sequential": [
            [
             0,
             "#0d0887"
            ],
            [
             0.1111111111111111,
             "#46039f"
            ],
            [
             0.2222222222222222,
             "#7201a8"
            ],
            [
             0.3333333333333333,
             "#9c179e"
            ],
            [
             0.4444444444444444,
             "#bd3786"
            ],
            [
             0.5555555555555556,
             "#d8576b"
            ],
            [
             0.6666666666666666,
             "#ed7953"
            ],
            [
             0.7777777777777778,
             "#fb9f3a"
            ],
            [
             0.8888888888888888,
             "#fdca26"
            ],
            [
             1,
             "#f0f921"
            ]
           ],
           "sequentialminus": [
            [
             0,
             "#0d0887"
            ],
            [
             0.1111111111111111,
             "#46039f"
            ],
            [
             0.2222222222222222,
             "#7201a8"
            ],
            [
             0.3333333333333333,
             "#9c179e"
            ],
            [
             0.4444444444444444,
             "#bd3786"
            ],
            [
             0.5555555555555556,
             "#d8576b"
            ],
            [
             0.6666666666666666,
             "#ed7953"
            ],
            [
             0.7777777777777778,
             "#fb9f3a"
            ],
            [
             0.8888888888888888,
             "#fdca26"
            ],
            [
             1,
             "#f0f921"
            ]
           ]
          },
          "colorway": [
           "#636efa",
           "#EF553B",
           "#00cc96",
           "#ab63fa",
           "#FFA15A",
           "#19d3f3",
           "#FF6692",
           "#B6E880",
           "#FF97FF",
           "#FECB52"
          ],
          "font": {
           "color": "#2a3f5f"
          },
          "geo": {
           "bgcolor": "white",
           "lakecolor": "white",
           "landcolor": "#E5ECF6",
           "showlakes": true,
           "showland": true,
           "subunitcolor": "white"
          },
          "hoverlabel": {
           "align": "left"
          },
          "hovermode": "closest",
          "mapbox": {
           "style": "light"
          },
          "paper_bgcolor": "white",
          "plot_bgcolor": "#E5ECF6",
          "polar": {
           "angularaxis": {
            "gridcolor": "white",
            "linecolor": "white",
            "ticks": ""
           },
           "bgcolor": "#E5ECF6",
           "radialaxis": {
            "gridcolor": "white",
            "linecolor": "white",
            "ticks": ""
           }
          },
          "scene": {
           "xaxis": {
            "backgroundcolor": "#E5ECF6",
            "gridcolor": "white",
            "gridwidth": 2,
            "linecolor": "white",
            "showbackground": true,
            "ticks": "",
            "zerolinecolor": "white"
           },
           "yaxis": {
            "backgroundcolor": "#E5ECF6",
            "gridcolor": "white",
            "gridwidth": 2,
            "linecolor": "white",
            "showbackground": true,
            "ticks": "",
            "zerolinecolor": "white"
           },
           "zaxis": {
            "backgroundcolor": "#E5ECF6",
            "gridcolor": "white",
            "gridwidth": 2,
            "linecolor": "white",
            "showbackground": true,
            "ticks": "",
            "zerolinecolor": "white"
           }
          },
          "shapedefaults": {
           "line": {
            "color": "#2a3f5f"
           }
          },
          "ternary": {
           "aaxis": {
            "gridcolor": "white",
            "linecolor": "white",
            "ticks": ""
           },
           "baxis": {
            "gridcolor": "white",
            "linecolor": "white",
            "ticks": ""
           },
           "bgcolor": "#E5ECF6",
           "caxis": {
            "gridcolor": "white",
            "linecolor": "white",
            "ticks": ""
           }
          },
          "title": {
           "x": 0.05
          },
          "xaxis": {
           "automargin": true,
           "gridcolor": "white",
           "linecolor": "white",
           "ticks": "",
           "title": {
            "standoff": 15
           },
           "zerolinecolor": "white",
           "zerolinewidth": 2
          },
          "yaxis": {
           "automargin": true,
           "gridcolor": "white",
           "linecolor": "white",
           "ticks": "",
           "title": {
            "standoff": 15
           },
           "zerolinecolor": "white",
           "zerolinewidth": 2
          }
         }
        },
        "xaxis": {
         "anchor": "y",
         "domain": [
          0,
          1
         ],
         "title": {
          "text": "tsne-2d-one"
         }
        },
        "yaxis": {
         "anchor": "x",
         "domain": [
          0,
          1
         ],
         "title": {
          "text": "tsne-2d-two"
         }
        }
       }
      }
     },
     "metadata": {},
     "output_type": "display_data"
    }
   ],
   "source": [
    "\n",
    "fig = px.scatter(\n",
    "    sentances_df, x=\"tsne-2d-one\", y=\"tsne-2d-two\",\n",
    "    hover_data=[\"content\", \"author\"],\n",
    "    color=\"author\"\n",
    ")\n",
    "\n",
    "fig.show()"
   ]
  },
  {
   "cell_type": "code",
   "execution_count": null,
   "metadata": {},
   "outputs": [],
   "source": []
  },
  {
   "cell_type": "markdown",
   "metadata": {},
   "source": [
    "# What is RAG?"
   ]
  },
  {
   "cell_type": "code",
   "execution_count": 35,
   "metadata": {},
   "outputs": [
    {
     "data": {
      "text/plain": [
       "CreateEmbeddingResponse(data=[Embedding(embedding=[-0.031226912513375282, -0.014903144910931587, -0.035327959805727005, 0.0019650841131806374, -0.03331764042377472, -0.0005197505233809352, -0.0001999845844693482, 0.0872209221124649, -0.03468465805053711, 0.019232025370001793, -0.021966055035591125, -0.024405239149928093, -0.020786670967936516, 0.0006014195969328284, 0.020076358690857887, 0.03170938789844513, -0.024284619837999344, 0.00852374080568552, 0.017771195620298386, 0.036239299923181534, 0.05299193784594536, -0.03248671069741249, -0.025329984724521637, 0.025691842660307884, 0.06079196557402611, -0.007645902689546347, 0.029189791530370712, 0.017690783366560936, -0.001696204300969839, -0.017141297459602356, 0.017704185098409653, -0.03953621909022331, -0.03843724727630615, 0.01420623529702425, 0.004677335731685162, -0.018213465809822083, 0.008376318030059338, 0.011452102102339268, -0.007129921577870846, -0.051276467740535736, 0.02865370735526085, -0.02210007607936859, 0.041760969907045364, -0.03420218080282211, -0.026871226727962494, 0.048810478299856186, -0.004814707674086094, 0.0034041355829685926, -0.019526872783899307, 0.0007442358182743192, -0.06609919667243958, 0.015653662383556366, 0.010614469647407532, 0.08378998190164566, 0.02484750933945179, -0.06776106357574463, -0.019151613116264343, -0.032004233449697495, -0.021604198962450027, -0.008691267110407352, 0.06014866381883621, -0.00873817503452301, 0.020371204242110252, 0.011170657351613045, -0.04023313149809837, 0.025464005768299103, 0.007920646108686924, -0.03953621909022331, -0.008450029417872429, 0.02092069201171398, 0.02665679343044758, 0.003504651365801692, 0.004992285277694464, -0.0033907333854585886, -0.07773222774267197, 0.03851766139268875, -0.039214570075273514, 0.008517039939761162, 0.03240629658102989, 0.01534541416913271, -0.03401455283164978, -0.006292290054261684, -0.023802144452929497, -0.01189437136054039, -0.03262073174118996, -0.04197540506720543, -0.021295949816703796, -0.0057763089425861835, 0.016913460567593575, -0.05628885701298714, -0.01475572120398283, -0.006469867657870054, -0.05055275186896324, -0.020371204242110252, 0.08620236068964005, -0.007451572455465794, -0.019848521798849106, 0.029565051198005676, -0.022207293659448624, -0.00032144118449650705, 0.007176829036325216, -0.003980426117777824, -0.0021811930928379297, 0.004915223456919193, 0.032433103770017624, 0.0005201693275012076, 0.02018357627093792, -0.03355887904763222, -0.010802099481225014, 0.0037760441191494465, -0.10094468295574188, 0.021175330504775047, -0.020076358690857887, -0.01062117051333189, 0.008316008374094963, -0.032942384481430054, 0.01814645528793335, -0.03205784410238266, -0.018843363970518112, -0.022877398878335953, -0.01371705811470747, -0.007464974652975798, -0.0005381784285418689, -0.014246441423892975, -0.021724818274378777, -0.020371204242110252, 0.009569105692207813, -0.023895960301160812, 0.02358771115541458, -0.0033873829524964094, 0.03988467529416084, -0.03272794932126999, 0.0260671004652977, -0.04307437688112259, -5.5911921663209796e-05, -0.0021158577874302864, -0.0411444716155529, -0.013549531809985638, -0.006158269010484219, -0.022703172639012337, -0.021108319982886314, 0.0284124705940485, 0.016833048313856125, -0.00047535603516735137, -0.01113045122474432, -0.06722497940063477, 0.0155196413397789, -0.03181660547852516, -0.02927020564675331, 0.007491778582334518, 0.007491778582334518, 0.004308777861297131, -0.07087034732103348, 0.015130980871617794, 0.007123220711946487, 0.0075051807798445225, -0.03304959833621979, -0.009173743426799774, -0.011431998573243618, -0.004563417751342058, -0.03256712481379509, -0.028198035433888435, -0.029806289821863174, -0.018508311361074448, 0.07103117555379868, -0.04229705408215523, -0.01360313966870308, 0.05087440460920334, -0.011472204700112343, -0.030985675752162933, -0.024820704013109207, -0.022368118166923523, -0.006784817203879356, 0.016404181718826294, -0.0022699821274727583, -0.03350527212023735, 0.02782277762889862, -0.039723850786685944, -0.07199613004922867, 0.04411974176764488, -0.04039395600557327, 0.05299193784594536, -0.051678530871868134, -0.0038531061727553606, -0.023601112887263298, 0.01420623529702425, -0.0313609354197979, 0.02077326737344265, -0.03926817700266838, 0.014715515077114105, 0.015305208042263985, 0.03640012815594673, 0.08405802398920059, -0.017382534220814705, 0.0036889303009957075, 0.039911478757858276, 0.0468805767595768, -0.031173303723335266, -0.030074331909418106, 0.01542582642287016, 0.013348500244319439, -0.0028546492103487253, -0.0365341491997242, -0.015881499275565147, 0.011981485411524773, -0.01420623529702425, -0.009850549511611462, 0.005079399328678846, 0.029886702075600624, -0.003930168226361275, 0.040930040180683136, -0.01849490962922573, -0.049641408026218414, 0.007666006218641996, -0.028894945979118347, 0.031414542347192764, 0.05315276235342026, -0.020907288417220116, -0.022502141073346138, -0.019459862262010574, -0.0060074953362345695, -0.0409032367169857, 0.0676538422703743, -0.004191509447991848, -0.0002816536871250719, 0.01438046246767044, 0.034228984266519547, 0.0003023850731551647, 0.048462025821208954, 0.01064127404242754, 0.003038928145542741, -0.02374853566288948, -0.05993422865867615, -0.03385372459888458, 0.0047812024131417274, 0.015533044002950191, -0.03428259491920471, -0.013348500244319439, 0.01857532188296318, -0.0003260481753386557, -0.002606710186228156, -0.007652604021131992, 0.013623243197798729, 0.03079804591834545, -0.005176564212888479, 0.0016275185626000166, -0.04095684364438057, -0.06802910566329956, 0.004613675642758608, -0.01904439553618431, 0.0034225634299218655, -0.03120010904967785, 0.022783584892749786, -0.04972182214260101, -0.028519686311483383, -0.005796412006020546, -0.02602689526975155, -0.02100110426545143, -0.021349558606743813, 0.04095684364438057, 0.02492792159318924, 0.007733016740530729, -0.008181987330317497, 0.02708566188812256, 0.0358908474445343, -0.0077799241989851, -0.04596923291683197, 0.04229705408215523, 0.020277390256524086, -0.055752772837877274, -0.022488737478852272, -0.04580840840935707, 0.010473747737705708, 0.015197991393506527, -0.0030020722188055515, -0.03615888953208923, 0.0001545430568512529, 0.039321787655353546, 0.05773628503084183, -0.005086100194603205, -0.057629067450761795, 0.005334039218723774, 0.00677141547203064, -0.00037672489997930825, 0.024994932115077972, 0.007511881645768881, 0.0019969141576439142, -0.04776511341333389, 0.002040470950305462, 0.022823790088295937, -0.0002060574188362807, -0.03146814927458763, 0.011941278353333473, -0.043985720723867416, -0.009019618853926659, -0.009354671463370323, 0.030047526583075523, -0.0049319760873913765, 0.015814488753676414, 0.03784755617380142, 0.030261961743235588, -0.02994031086564064, 0.0014457524521276355, 0.04001869633793831, -0.03967024013400078, 0.018159857019782066, 0.03382692113518715, -0.013549531809985638, 0.037874359637498856, -0.022234097123146057, 0.016350572928786278, -0.005441255867481232, -0.0019215273205190897, 0.0007270643836818635, -0.040420759469270706, -0.04950738698244095, -0.0284124705940485, 0.01381757389754057, 0.04894449934363365, 0.014795927330851555, 0.002775911707431078, -0.0157206729054451, 8.564785093767568e-05, -0.0209340937435627, -0.00733765447512269, 0.00022050656843930483, 0.009274259209632874, 0.0006424635648727417, -0.018481507897377014, -0.028224840760231018, -0.021269146353006363, 0.02136296033859253, 0.020277390256524086, 0.015626858919858932, 0.011184059083461761, 0.0049889348447322845, -0.0513300746679306, 0.0062252795323729515, -0.002288409974426031, 0.005230173002928495, -0.06883323192596436, 0.03339805454015732, -0.014447472989559174, 0.013134066015481949, 0.04181457683444023, 0.02268976904451847, 0.010232510045170784, 0.03433620184659958, -0.026951640844345093, 0.009669621475040913, 0.007123220711946487, -0.0025966584216803312, 0.023333070799708366, 0.038544464856386185, -0.0023738485760986805, -0.02468668296933174, -0.0001099391738534905, -0.020826876163482666, -0.02935061790049076, -0.027447517961263657, -0.04307437688112259, -0.015935106202960014, 0.01892377808690071, 0.0036185693461447954, 0.016203148290514946, -0.0023989775218069553, -0.018159857019782066, -0.014688710682094097, 0.0033672796562314034, -0.00018721070955507457, -0.032352689653635025, -0.035488784313201904, 0.0104469433426857, 0.007726315408945084, -0.019902130588889122, 0.010165499523282051, -0.023547504097223282, 0.02900216355919838, -0.02120213583111763, 0.03310320898890495, 0.018722744658589363, 0.00985725037753582, -0.01991553232073784, -0.025611428543925285, -0.022595955058932304, 0.012028392404317856, 0.048059962689876556, -0.007203633431345224, 0.043208397924900055, 0.05736102536320686, 0.006201825570315123, 0.02112172357738018, -0.00022511354472953826, 0.014246441423892975, 0.024793900549411774, -0.024244414642453194, 0.0008753252332098782, 0.0673321932554245, -0.010373231954872608, -0.05334039032459259, -0.020625844597816467, 0.03554239124059677, -0.05020429939031601, -0.003437640843912959, -0.013462417759001255, 0.0102459117770195, -0.04403932765126228, 0.029028967022895813, -0.023560905829072, -0.024029981344938278, -0.020505225285887718, -0.03953621909022331, 0.07666005939245224, 0.03733827546238899, 0.026482567191123962, -0.024793900549411774, 0.029913505539298058, -0.04996306076645851, 0.03195062652230263, 0.011411895044147968, 0.0053005339577794075, 0.009997973218560219, 0.020907288417220116, -0.014916546642780304, 0.057629067450761795, 0.02935061790049076, -0.04814037308096886, -0.01692686229944229, 0.0316021703183651, -0.027715560048818588, -0.017154699191451073, -0.0029250101651996374, 0.03656095266342163, -0.03859807178378105, -0.03307640552520752, 0.011398493312299252, -0.012195918709039688, 0.047202225774526596, 0.01716810092329979, 0.024994932115077972, 0.012564476579427719, -0.002744081662967801, -0.057629067450761795, 0.004761098884046078, -0.009837147779762745, 0.03567641228437424, -0.02782277762889862, 0.03967024013400078, 0.013884584419429302, -0.011143852956593037, 0.01979491487145424, -0.0005373407620936632, -0.005863422527909279, 0.0209340937435627, 0.048810478299856186, 0.013093859888613224, 0.006469867657870054, -0.043530046939849854, 0.0284124705940485, -0.011767051182687283, 0.05208059400320053, 0.023145440965890884, -0.04071560502052307, -0.020465020090341568, 0.019741306081414223, 0.04540634527802467, 0.020250586792826653, 0.024700086563825607, -0.02985989861190319, 0.024284619837999344, -0.00832941010594368, 0.0666888952255249, -0.02504854090511799, -0.022904204204678535, -0.011458802968263626, -0.005943835247308016, 0.0571465902030468, -0.048971302807331085, -0.01834748685359955, -0.004573469515889883, -0.029297009110450745, 0.023038225248456, 0.05039192736148834, 0.03248671069741249, -0.03264753520488739, 0.029967114329338074, 0.006754662841558456, -0.06786827743053436, -0.0469609871506691, -0.06036309525370598, 0.01360313966870308, 0.026361947879195213, 0.011746947653591633, -0.014849536120891571, 0.03245990723371506, 0.033960942178964615, -0.06835075467824936, -0.02649596892297268, 0.020558834075927734, -0.020129967480897903, -0.04390530660748482, 0.005230173002928495, -0.031682584434747696, 0.07708892971277237, 0.0067178066819906235, -0.00431212829425931, -0.011170657351613045, -0.04511149600148201, 0.027527930215001106, 0.03500630706548691, 0.009240753948688507, -0.018588723614811897, -0.03010113537311554, -0.026428958401083946, 0.03511352464556694, -0.012752106413245201, -0.0001721333246678114, 0.011854165233671665, -0.02531658299267292, 0.006091258488595486, -0.021939251571893692, -0.006295640487223864, -0.001352775376290083, -0.04484345391392708, 0.030637219548225403, -0.04256509616971016, -0.010909316129982471, 0.05451977625489235, -0.0019332541851326823, 0.02006295695900917, 0.022193891927599907, 0.012430455535650253, -0.06481259316205978, -0.03154856339097023, 0.0032165059819817543, -0.032701145857572556, -0.0014666932402178645, 0.03843724727630615, -0.0362929105758667, 0.02006295695900917, 0.017503153532743454, 0.03725786134600639, 0.01692686229944229, -0.01446087472140789, -0.020129967480897903, -0.012993344105780125, -0.004426046274602413, 0.0043623861856758595, 0.004965481348335743, 0.005089450627565384, 0.0024207558017224073, -0.02739390917122364, 0.00380619871430099, -0.03044958971440792, 0.04824759066104889, -0.021175330504775047, -0.0013075432507321239, -0.017154699191451073, -0.044655825942754745, -0.01845470257103443, 0.02555782161653042, -0.03213825449347496, 0.012772209011018276, -0.014139224775135517, -0.016712429001927376, 0.01568046770989895, -0.002539699664339423, -0.05564555525779724, 0.008255698718130589, 0.011633030138909817, -0.016551604494452477, -0.03784755617380142, 0.025370191782712936, 0.016256757080554962, 0.018910374492406845, -0.015921704471111298, 0.03640012815594673, 0.025128953158855438, 0.0014005203265696764, -0.0010587666183710098, 0.012430455535650253, 0.0019533573649823666, 0.018052639439702034, -0.03503311052918434, -0.021939251571893692, -0.023038225248456, 0.017972227185964584, 0.0017858309438452125, 0.009240753948688507, -0.004707490559667349, -0.009723229333758354, -0.0006826699245721102, -0.00862425658851862, -0.016095932573080063, -0.008289203979074955, -0.012859323062002659, 0.006630693096667528, -0.02409699186682701, 0.023212451487779617, 0.038973331451416016, 0.04621047154068947, -0.009046423248946667, -0.0009423357550986111, -0.05331358686089516, 0.009589208289980888, 0.025169160217046738, -0.02476709708571434, -0.023038225248456, -0.012082001194357872, 0.009106732904911041, -0.009723229333758354, 0.025370191782712936, 0.028385665267705917, -0.04299396276473999, 0.041171278804540634, -0.014621700160205364, -0.030315568670630455, -0.02629493735730648, -0.006265485659241676, -0.01939285174012184, 0.004405943211168051, -0.0017741040792316198, -0.014058811590075493, 0.01360313966870308, 0.02629493735730648, -0.002191244624555111, -0.03680219128727913, -0.007116519380360842, 0.015238197520375252, 0.024659879505634308, -0.003863157704472542, 0.04521871358156204, 0.009595910087227821, -0.03779394552111626, 0.00883869081735611, -0.010942821390926838, -0.014635102823376656, -0.013060354627668858, 0.007324252277612686, -0.02226090244948864, 0.045593973249197006, -0.012035093270242214, -0.0181866604834795, 0.008878896944224834, 0.03784755617380142, -0.012664992362260818, -0.00793404784053564, 0.021336156874895096, 0.01912480965256691, -0.016940265893936157, -0.0359712578356266, -0.0031595469918102026, 0.02559802681207657, 0.007867037318646908, 0.03425578773021698, -0.020411411300301552, -0.01263818796724081, -0.030717631801962852, -0.011056739836931229, -0.05537751317024231, -0.008691267110407352, 0.01834748685359955, -0.012128908187150955, 0.016162943094968796, 0.016752636060118675, -0.005893577355891466, -0.02900216355919838, 0.01680624485015869, -0.01771758683025837, -0.018762951716780663, -0.057629067450761795, -0.02421760931611061, 0.018374290317296982, -0.040822822600603104, 0.023936165496706963, -0.018079444766044617, 0.020987702533602715, 0.006252083461731672, -0.006195124704390764, -0.02665679343044758, -0.009079928509891033, 0.04714861884713173, -0.02449905499815941, -0.012591280974447727, -0.027849581092596054, 0.03910735249519348, 0.02468668296933174, -0.014300050213932991, 0.004493056796491146, 0.022435128688812256, 0.004707490559667349, -0.03409496322274208, 0.02715267241001129, 0.00862425658851862, -0.013609841465950012, 0.030261961743235588, -0.003291892819106579, 0.015238197520375252, -0.025423800572752953, -0.07049509137868881, 0.0361320860683918, 0.02927020564675331, -0.017583565786480904, 0.009260856546461582, 0.032191865146160126, -0.03975065425038338, -0.00714332377538085, 0.010105189867317677, 0.021496981382369995, 0.012075299397110939, 0.008604153990745544, -0.03254031762480736, -0.002005290472880006, 0.02120213583111763, -0.011251070536673069, -0.0014424019027501345, -0.014849536120891571, -0.00623198039829731, 0.014728916808962822, -0.02629493735730648, 0.0060074953362345695, 0.01568046770989895, 0.025799058377742767, 0.012859323062002659, -0.015171186998486519, 0.0157608799636364, 0.006955694407224655, 0.02727328985929489, -0.003248336026445031, 0.01140519417822361, 0.019660893827676773, 0.07526624202728271, 0.00879848375916481, -0.0366949737071991, -0.006560332141816616, -0.014836134389042854, -0.045593973249197006, -0.009937663562595844, -0.025370191782712936, -0.052884720265865326, 0.018682539463043213, -0.04937336593866348, -0.021724818274378777, -0.007029405795037746, -0.01845470257103443, -0.06095279008150101, 0.04385169968008995, 0.04444139078259468, -0.004449500236660242, 0.01332839671522379, -0.03934859111905098, 0.011351586319506168, -0.006888683885335922, -0.002933386480435729, 0.026790814474225044, -0.01283251866698265, -0.0365341491997242, -0.011586123146116734, -0.00852374080568552, -0.0364537350833416, -0.00950209517031908, 0.034041356295347214, -0.010614469647407532, -0.03366609662771225, 0.004472953733056784, 0.004570119082927704, -0.008711370639503002, -0.005166512914001942, 0.028278449550271034, 0.04698779061436653, 0.007565490435808897, -0.007451572455465794, -0.018789755180478096, 0.006754662841558456, 0.01794542372226715, -0.020800072699785233, -0.022743377834558487, 0.011740246787667274, 0.01631036587059498, 0.007840233854949474, -0.04765789955854416, -0.030824849382042885, -0.008517039939761162, -0.05352802202105522, -0.03208464756608009, -0.024432044476270676, 0.029967114329338074, -0.009984570555388927, 0.0179856289178133, -0.0573074147105217, -0.02967226877808571, 0.015626858919858932, -0.005799762438982725, 0.019071200862526894, -0.0027424064464867115, -0.01983512006700039, -0.03044958971440792, -0.016283562406897545, -0.026629989966750145, -0.015626858919858932, -0.0027742364909499884, 0.0005210069939494133, 0.003588414518162608, -0.020639246329665184, 0.004580170381814241, 0.012772209011018276, 0.029323812574148178, 0.012082001194357872, -0.019995946437120438, 0.002109156921505928, -0.008456730283796787, 0.03259392827749252, -0.047952745109796524, 0.011478905566036701, 0.02602689526975155, 0.026750609278678894, 0.0022264253348112106, -0.02203306555747986, 0.005089450627565384, 0.0029183090664446354, 0.024713488295674324, 0.011981485411524773, 0.017690783366560936, -0.005568576045334339, 0.03291557729244232, -0.014903144910931587, 0.04594242945313454, -0.039911478757858276, 0.012135609053075314, -0.011036636307835579, 0.02814442850649357, 0.0021409867331385612, -0.015734074637293816, -0.004677335731685162, -0.010433541610836983, 0.02104130946099758, -0.028814533725380898, 0.007002601865679026, 0.0034175377804785967, -0.003122691297903657, 0.002926685381680727, -0.011163956485688686, 0.005990742705762386, 0.02010316215455532, 0.00406753970310092, 0.023775340989232063, -0.00909333024173975, -0.016095932573080063, 0.03216506168246269, -0.01622995361685753, 0.00487836729735136, 0.02350729890167713, -0.007786625064909458, 0.0017020677914842963, -0.007813429459929466, 0.02504854090511799, -0.0050123888067901134, 0.0462372750043869, 0.0032902176026254892, -0.020545432344079018, 0.030395982787013054, 0.022582553327083588, -0.006114711984992027, -0.014943351037800312, 0.007947450503706932, -0.03648053854703903, 0.006895384751260281, -0.008416524156928062, 0.008001058362424374, -0.052107397466897964, -0.018950581550598145, -0.005246925633400679, 0.0014901469694450498, 0.008295904844999313, 0.02555782161653042, -0.02562483213841915, 0.038115598261356354, -0.00699590053409338, 0.03371970355510712, -0.011391792446374893, 0.024445446208119392, 0.004452850669622421, -0.02100110426545143, 0.015291805379092693, 0.038624875247478485, -0.051866158843040466, 0.03465785086154938, 0.025464005768299103, -0.001790856709703803, 0.00940828025341034, 0.04596923291683197, 0.013844378292560577, -0.014876340515911579, 0.006325795315206051, 0.006292290054261684, 0.003255037125200033, -0.00017223804024979472, 0.007940749637782574, 0.017503153532743454, 0.025718646124005318, 0.0009574131108820438, 0.03878570348024368, 0.00873817503452301, 0.015841292217373848, 0.01767738163471222, 0.029377421364188194, -0.015573250129818916, 0.005648988764733076, 0.017275318503379822, -0.03221866860985756, 0.04701459780335426, -0.016404181718826294, 0.015492837876081467, 0.024994932115077972, -0.018052639439702034, -0.015399022959172726, 0.017034079879522324, 0.030503198504447937, 0.045084692537784576, -0.01064127404242754, -0.05028470978140831, -0.002821143949404359, -0.009803642518818378, 0.00403738534078002, 0.0019148262217640877, -0.015197991393506527, -0.010199004784226418, 0.02825164422392845, 0.007679407950490713, 0.0030506548937410116, 0.015921704471111298, 0.0010143721010535955, 0.0060376496985554695, -0.0037793945521116257, 0.031682584434747696, -0.01234334148466587, 0.013871182687580585, 0.0283320564776659, 0.04511149600148201, 0.022046469151973724, 0.029323812574148178, -0.0064765689894557, -0.0004464577359613031, -0.005648988764733076, -0.01983512006700039, -0.027286693453788757, -0.0009599259938113391, 0.013013447634875774, 0.0014072214253246784, -0.024365033954381943, 0.0014357009204104543, 0.01610933430492878, -0.027527930215001106, -0.006660847924649715, 0.03232588618993759, -0.01208870206028223, -0.008563946932554245, -0.04358365759253502, 0.009997973218560219, -0.004462901968508959, -0.00546806026250124, -0.0013443990610539913, 0.01983512006700039, -0.007766522001475096, -0.05628885701298714, -0.0030188248492777348, -0.00048624526243656874, 0.010386633686721325, 0.02026398852467537, 0.020599041134119034, 0.006315743550658226, 0.0020622494630515575, 0.021188734099268913, 0.027715560048818588, -0.010312922298908234, 0.011431998573243618, 0.04044756293296814, 0.04682696610689163, -0.017878413200378418, 0.008986113592982292, 0.012939735315740108, -0.0037726934533566236, 0.010781995952129364, 0.03350527212023735, -0.03924137353897095, 0.0015797734959051013, 0.020666051656007767, 7.878973519837018e-06, -0.006570383906364441, -0.00421161251142621, -0.0008694618009030819, 0.01208870206028223, -0.04562077671289444, 0.015921704471111298, 0.043637264519929886, 0.006057753227651119, -0.011780452914536, -0.07757140696048737, 0.006248733028769493, 0.00987735390663147, -0.002253229497000575, -0.03926817700266838, 0.012805714271962643, -0.025102149695158005, -0.0074113658629357815, -0.0036185693461447954, 0.026187719777226448, 0.007083014119416475, 0.013288190588355064, -0.007806728128343821, 0.0031126397661864758, -0.0130536537617445, -0.02148357965052128, 0.013589737936854362, 0.017811402678489685, -9.250595758203417e-05, -0.005280430894345045, -0.008751576766371727, 0.01661861501634121, -0.011204162612557411, 0.04484345391392708, -0.014192832633852959, 0.029216596856713295, 0.022863997146487236, -0.04562077671289444, -0.022274304181337357, -0.0017841557273641229, -0.022783584892749786, 0.03254031762480736, 0.02405678480863571, 0.01751655526459217, 0.03417537733912468, -0.019848521798849106, -0.024365033954381943, -0.021563991904258728, -0.0024592869449406862, 0.0033270735293626785, 0.00029903455288149416, 0.007893841713666916, 0.014648504555225372, -0.004355685319751501, -0.0025631531607359648, -0.013830975629389286, -0.010272716172039509, 0.004787903279066086, 0.02405678480863571, 0.011592824012041092, 0.01869594119489193, -0.0078804399818182, 0.0037760441191494465, 0.02002274990081787, -0.017114492133259773, -0.007619098760187626, -0.012242825701832771, 0.050418730825185776, 0.005129657220095396, 0.020719660446047783, -0.02132275514304638, 0.007987656630575657, 0.008617555722594261, -0.0011542566353455186, -0.006372702773660421, -0.036507342010736465, -0.023815546184778214, 0.006359300576150417, 0.03967024013400078, 0.03688260167837143, 0.00015517129213549197, -0.003876559901982546, -0.002316889585927129, 0.051356878131628036, 0.012149011716246605, -0.01159952487796545, 0.020518628880381584, -0.018079444766044617, 0.0011165632167831063, -0.016122736036777496, -0.004486355930566788, 0.03774033859372139, 0.014795927330851555, 0.005555173847824335, 0.011036636307835579, 0.006255434360355139, -0.013750563375651836, -0.023775340989232063, -0.017583565786480904, 0.013100560754537582, -0.003203104017302394, 0.025222769007086754, -0.014554689638316631, 0.013790769502520561, 0.007726315408945084, -0.013274788856506348, 0.010353128425776958, -0.0005716836894862354, 0.03551558777689934, -0.01304695289582014, 0.008068068884313107, 0.01446087472140789, -0.011666535399854183, 0.019191820174455643, 0.010547459125518799, -0.0003953622072003782, -0.004596923012286425, 0.014032007195055485, 0.004154653754085302, -0.01657840795814991, -0.0062822382897138596, 0.009817044250667095, 0.031334128230810165, -0.0232392568141222, -0.015546445734798908, -0.009817044250667095, 0.01908460259437561, -0.0310392826795578, -0.007867037318646908, 0.009240753948688507, -0.013844378292560577, -0.008684566244482994, -0.030235156416893005, 0.004392541013658047, 0.0007015166338533163, -0.01005158107727766, -0.007263942621648312, 0.013435613363981247, 0.028707316145300865, -0.0026167617179453373, 0.007565490435808897, -0.045835211873054504, -0.03130732476711273, -0.035837236791849136, -0.056824941188097, 0.019861925393342972, -0.020129967480897903, -7.716682739555836e-05, 0.018360888585448265, -0.002606710186228156, -0.010085086338222027, 0.022582553327083588, 0.006556981708854437, 0.009984570555388927, -0.053554825484752655, -0.02637534961104393, 0.013897986151278019, 0.013335097581148148, -0.015573250129818916, -0.030422786250710487, 0.09456527978181839, -0.016283562406897545, -0.008691267110407352, -0.01810624822974205, 0.0256650373339653, 0.005501565523445606, -0.020880484953522682, -0.005561875179409981, -0.005766257178038359, 0.024740291759371758, -0.0011467179283499718, 0.0021996209397912025, -0.004382489249110222, -0.005836618132889271, -0.037686727941036224, -0.023493895307183266, 0.0009817044483497739, 0.009180444292724133, 0.013040251098573208, -0.024633076041936874, 0.01399180106818676, 0.0016350572695955634, -0.0180660430341959, 0.045325931161642075, -0.0068819825537502766, 0.013026849366724491, 0.009227351285517216, 0.011291276663541794, 0.043717678636312485, 0.018253671005368233, 0.02171141654253006, 0.010038179345428944, -0.006861879490315914, 0.008899000473320484, -0.021068114787340164, 0.005216770805418491, -0.018200064077973366, -0.005722700152546167, 0.02908257581293583, -0.010507252998650074, 0.005592029541730881, 0.005166512914001942, 0.000795750180259347, 0.027769168838858604, 0.03138773888349533, 0.0024408590979874134, 0.01645778864622116, 0.017221709713339806, -0.005709298420697451, 0.006694353185594082, -0.025718646124005318, -0.015452630817890167, -0.04208261892199516, 0.008416524156928062, 0.0005595380207523704, -0.025571223348379135, -0.00047284315223805606, -0.007679407950490713, -0.02621452510356903, 0.02327946200966835, 0.012209320440888405, -0.008771680295467377, -0.02246193401515484, -0.03197742998600006, -0.01775779388844967, -0.008872196078300476, 0.008114976808428764, -0.01391138881444931, -0.02806401439011097, 0.021724818274378777, -0.034550637006759644, 0.0026301636826246977, -0.02715267241001129, 0.022046469151973724, -0.01255777571350336, 0.02814442850649357, 0.00814848206937313, -0.03996508568525314, 0.00297861872240901, -0.017663979902863503, 0.004985584411770105, -0.01564026065170765, -0.0056121330708265305, -0.011746947653591633, 0.02195265330374241, -0.03873209282755852, 0.006677600555121899, -0.012289733625948429, 0.014326853677630424, 0.01759696751832962, -0.03248671069741249, -0.0043188296258449554, 0.016363974660634995, -0.026790814474225044, 0.010098489001393318, -0.01932584121823311, -0.010339726693928242, 0.017060883343219757, -0.020786670967936516, -0.010594367049634457, 0.013013447634875774, -0.022676367312669754, -0.01881656050682068, 0.0366949737071991, -0.02472689002752304, -0.030744437128305435, -0.0014641802990809083, 0.05376926064491272, 0.013214479200541973, -0.01712789386510849, 0.030342373996973038, -0.029457833617925644, 0.01936604641377926, -0.037016622722148895, 0.01526500191539526, -0.00842992588877678, -0.016203148290514946, -0.0181866604834795, 0.005511617287993431, 0.03615888953208923, -0.013087159022688866, 0.0410640612244606, 0.01399180106818676, 0.016162943094968796, -0.013897986151278019, 0.0012246177066117525, 0.03698981925845146, -0.03602486848831177, 0.006178372073918581, -0.012611384503543377, -0.00979694165289402, 0.018200064077973366, 0.033290836960077286, 0.02959185466170311, 0.01688665710389614, 0.0027290042489767075, 0.029404226690530777, -0.009904158301651478, -0.0183876920491457, -0.006339197512716055, 0.023091832175850868, 0.008865495212376118, 0.030583610758185387, 0.036346517503261566, -0.006647445727139711, 0.0011132126674056053, 0.0030037476681172848, -0.03790116310119629, -0.007284046150743961, 0.01928563416004181, 0.02582586370408535, 0.012477363459765911, -0.04950738698244095, -0.01614954136312008, 0.013938193209469318, 0.021188734099268913, -0.040930040180683136, 0.030583610758185387, -0.06491981446743011, -0.004905171692371368, -0.009079928509891033, 0.007304149214178324, 0.021724818274378777, -0.011244368739426136, 0.03197742998600006, -0.017034079879522324, -0.029055770486593246, 0.020170172676444054, -0.0012489089276641607, 0.010942821390926838, 0.032272275537252426, -0.03262073174118996, -0.02849288284778595, -0.0019014241406694055, 0.02238152176141739, 0.0024944674223661423, -0.003749239956960082, -0.0020270689856261015, 0.014112420380115509, -0.012222723104059696, -0.03120010904967785, -0.008584050461649895, -0.020719660446047783, 0.011096945963799953, -0.02476709708571434, -0.023386679589748383, -0.012490765191614628, -0.016243355348706245, 0.020049555227160454, -0.02163100242614746, 0.02461967244744301, -0.011472204700112343, 0.029377421364188194, -0.007525283843278885, -0.013703656382858753, 0.021684611216187477, 0.03688260167837143, 0.014407266862690449, 0.015881499275565147, 0.011036636307835579, -0.0033203724306076765, -0.006610590033233166, 0.02077326737344265, 0.03835683315992355, -0.04859604686498642, 0.013871182687580585, -0.002551426412537694, 0.024445446208119392, -0.019258830696344376, -0.03195062652230263, 0.006902086082845926, 0.004057488404214382, -0.03425578773021698, 0.0157608799636364, 0.02246193401515484, -0.009247454814612865, -0.019567077979445457, 0.0033522024750709534, -0.02331966906785965, -0.013073757290840149, -0.050928011536598206, -0.02876092493534088, -0.027246486395597458, -0.05039192736148834, -0.007163426838815212, 0.05317956581711769, -0.0031059386674314737, -0.03417537733912468, -0.0519733764231205, -0.01564026065170765, 0.005558524280786514, 0.005273729562759399, -0.018789755180478096, 0.0412248857319355, -0.0033203724306076765, 0.0313609354197979, -0.02916298806667328, 0.0013686902821063995, -0.02378874272108078, 0.03749909996986389, -0.009662920609116554, 0.0129531379789114, 0.028171231970191002, 0.00903302151709795, -0.012698497623205185, 0.04406613111495972, 0.04382489621639252, -0.0018662436632439494, 0.04891769587993622, -0.025423800572752953, 0.00871807150542736, -0.021228939294815063, 0.0050123888067901134, 0.00038342594052664936, 0.0180258359760046, -0.0010353128891438246, -0.049668215215206146, 0.006392805837094784, 0.0181866604834795, -0.001752325682900846, -0.006081206724047661, 0.0003218600177206099, -0.004660583101212978, -0.013750563375651836, 0.007364458404481411, 0.00871807150542736, -0.004325530491769314, -0.0013376979622989893, -0.0028512985445559025, 0.027688756585121155, 0.0026100606191903353, 0.01446087472140789, -0.04224344715476036, -0.02492792159318924, -0.008704669773578644, 0.008496936410665512, 0.03323723003268242, 0.013750563375651836, 0.02480730228126049, -0.001797557808458805, 0.009642817080020905, -0.0036822292022407055, -0.042270250618457794, 0.009515496902167797, -0.008450029417872429, -0.01580108515918255, -0.008617555722594261, -0.0040507870726287365, 0.00213093520142138, 0.019660893827676773, 0.05971979722380638, -0.015358815900981426, 0.0032516864594072104, 0.0313609354197979, 0.030422786250710487, 0.04302076995372772, -0.019580479711294174, 0.006292290054261684, -0.03656095266342163, 0.005866772960871458, 0.001955032581463456, -0.029297009110450745, -0.0027256538160145283, 0.002246528398245573, 0.013509325683116913, 0.06116722151637077, 0.0078804399818182, 0.023306267336010933, -0.040930040180683136, 0.05612802878022194, 0.001020235475152731, -0.00024333203327842057, -0.038464050740003586, -0.011157255619764328, -0.005159811582416296, -0.00014260680472943932, 0.005923732183873653, 0.0077799241989851, -0.02908257581293583, 0.026871226727962494, 0.010547459125518799, 0.029725875705480576, -0.0032114803325384855, 0.026120709255337715, 0.061006397008895874, -0.019848521798849106, -0.03444341942667961, 0.006942292209714651, 0.002358771162107587, 0.01187426783144474, 0.008302606642246246, 0.034148573875427246, -0.03698981925845146, -0.005401049740612507, 0.01896398328244686, 0.0024592869449406862, 0.0025212715845555067, 0.009924260899424553, -0.00440929364413023, -0.02657638117671013, -0.037097036838531494, -0.018709342926740646, -0.01692686229944229, 0.0010403386550024152, -0.00684847729280591, -0.005598730873316526, -0.019098004326224327, 0.0049755326472222805, 0.01912480965256691, 0.01904439553618431, -0.002120883669704199, 0.02825164422392845, 0.04283313825726509, -0.014152626506984234, -0.007726315408945084, 0.014943351037800312, 0.01755676232278347, -0.0259062759578228, -0.03733827546238899, -0.02148357965052128, -0.031843408942222595, -0.013455716893076897, -0.021617600694298744, 0.031066088005900383, -0.0059002782218158245, 0.012356744147837162, -0.011096945963799953, -0.0010570912854745984, 0.005648988764733076, 0.014099017716944218, -0.003930168226361275, -0.007666006218641996, 0.044655825942754745, 0.018561920151114464, -0.011780452914536, 0.028171231970191002, 0.006258784793317318, 0.012812416069209576, -0.014407266862690449, -0.053206369280815125, -0.015693869441747665, 0.022837193682789803, 0.019272232428193092, -0.001630031387321651, 0.03162897750735283, -0.008972711861133575, -0.008027862757444382, -0.033880531787872314, -0.006540229078382254], index=0, object='embedding')], model='text-embedding-3-small', object='list', usage=Usage(prompt_tokens=8, total_tokens=8))"
      ]
     },
     "execution_count": 35,
     "metadata": {},
     "output_type": "execute_result"
    }
   ],
   "source": [
    "query = \"I'd like to better my language skills\"\n",
    "\n",
    "query_embedding = client.embeddings.create(model=EMBEDDING_MODEL, input=query)\n",
    "query_embedding"
   ]
  },
  {
   "cell_type": "code",
   "execution_count": 39,
   "metadata": {},
   "outputs": [],
   "source": [
    "query_embedding = query_embedding.data[0].embedding"
   ]
  },
  {
   "cell_type": "code",
   "execution_count": 51,
   "metadata": {},
   "outputs": [
    {
     "data": {
      "text/html": [
       "<div>\n",
       "<style scoped>\n",
       "    .dataframe tbody tr th:only-of-type {\n",
       "        vertical-align: middle;\n",
       "    }\n",
       "\n",
       "    .dataframe tbody tr th {\n",
       "        vertical-align: top;\n",
       "    }\n",
       "\n",
       "    .dataframe thead th {\n",
       "        text-align: right;\n",
       "    }\n",
       "</style>\n",
       "<table border=\"1\" class=\"dataframe\">\n",
       "  <thead>\n",
       "    <tr style=\"text-align: right;\">\n",
       "      <th></th>\n",
       "      <th>content</th>\n",
       "      <th>author</th>\n",
       "      <th>embedding</th>\n",
       "      <th>tsne-2d-one</th>\n",
       "      <th>tsne-2d-two</th>\n",
       "      <th>distance</th>\n",
       "    </tr>\n",
       "  </thead>\n",
       "  <tbody>\n",
       "    <tr>\n",
       "      <th>10</th>\n",
       "      <td>A crash course in becoming a better writer</td>\n",
       "      <td>Meagan Campbell</td>\n",
       "      <td>[-0.030720179900527, 0.028391214087605476, -0....</td>\n",
       "      <td>5.073293</td>\n",
       "      <td>-21.433315</td>\n",
       "      <td>0.599329</td>\n",
       "    </tr>\n",
       "    <tr>\n",
       "      <th>12</th>\n",
       "      <td>Becoming a stronger writer helps make you a st...</td>\n",
       "      <td>Meagan Campbell</td>\n",
       "      <td>[0.023073216900229454, -0.028935875743627548, ...</td>\n",
       "      <td>2.870385</td>\n",
       "      <td>-9.305427</td>\n",
       "      <td>0.677966</td>\n",
       "    </tr>\n",
       "    <tr>\n",
       "      <th>11</th>\n",
       "      <td>Even if you never plan to be a full-time write...</td>\n",
       "      <td>Meagan Campbell</td>\n",
       "      <td>[0.02639438770711422, 0.025916660204529762, 0....</td>\n",
       "      <td>-2.194378</td>\n",
       "      <td>-9.512372</td>\n",
       "      <td>0.684160</td>\n",
       "    </tr>\n",
       "    <tr>\n",
       "      <th>16</th>\n",
       "      <td>We'll explore what it is, why it's crucial to ...</td>\n",
       "      <td>Sushmitha Batchu</td>\n",
       "      <td>[-0.03420684486627579, 0.043061330914497375, 0...</td>\n",
       "      <td>6.941230</td>\n",
       "      <td>-8.484236</td>\n",
       "      <td>0.707217</td>\n",
       "    </tr>\n",
       "    <tr>\n",
       "      <th>17</th>\n",
       "      <td>I firmly believe that mastering this skill can...</td>\n",
       "      <td>Sushmitha Batchu</td>\n",
       "      <td>[0.022497566416859627, 0.0016994505422189832, ...</td>\n",
       "      <td>9.175625</td>\n",
       "      <td>-11.463681</td>\n",
       "      <td>0.718882</td>\n",
       "    </tr>\n",
       "  </tbody>\n",
       "</table>\n",
       "</div>"
      ],
      "text/plain": [
       "                                              content            author  \\\n",
       "10         A crash course in becoming a better writer   Meagan Campbell   \n",
       "12  Becoming a stronger writer helps make you a st...   Meagan Campbell   \n",
       "11  Even if you never plan to be a full-time write...   Meagan Campbell   \n",
       "16  We'll explore what it is, why it's crucial to ...  Sushmitha Batchu   \n",
       "17  I firmly believe that mastering this skill can...  Sushmitha Batchu   \n",
       "\n",
       "                                            embedding  tsne-2d-one  \\\n",
       "10  [-0.030720179900527, 0.028391214087605476, -0....     5.073293   \n",
       "12  [0.023073216900229454, -0.028935875743627548, ...     2.870385   \n",
       "11  [0.02639438770711422, 0.025916660204529762, 0....    -2.194378   \n",
       "16  [-0.03420684486627579, 0.043061330914497375, 0...     6.941230   \n",
       "17  [0.022497566416859627, 0.0016994505422189832, ...     9.175625   \n",
       "\n",
       "    tsne-2d-two  distance  \n",
       "10   -21.433315  0.599329  \n",
       "12    -9.305427  0.677966  \n",
       "11    -9.512372  0.684160  \n",
       "16    -8.484236  0.707217  \n",
       "17   -11.463681  0.718882  "
      ]
     },
     "execution_count": 51,
     "metadata": {},
     "output_type": "execute_result"
    }
   ],
   "source": [
    "import pandas as pd\n",
    "import numpy as np\n",
    "import matplotlib.pyplot as plt\n",
    "from sklearn.metrics.pairwise import cosine_distances, cosine_similarity\n",
    "\n",
    "\n",
    "# Compute distances\n",
    "sentances_df['distance'] = sentances_df['embedding'].apply(lambda x: cosine_distances([query_embedding], [x])[0][0])\n",
    "\n",
    "# Get the top k sentences with smallest distances\n",
    "k = 5\n",
    "top_k = sentances_df.nsmallest(k, 'distance')\n",
    "top_k\n"
   ]
  },
  {
   "cell_type": "code",
   "execution_count": 52,
   "metadata": {},
   "outputs": [
    {
     "data": {
      "image/png": "[encoded data removed]",
      "text/plain": [
       "<Figure size 1000x600 with 1 Axes>"
      ]
     },
     "metadata": {},
     "output_type": "display_data"
    }
   ],
   "source": [
    "\n",
    "import textwrap\n",
    "\n",
    "# Wrap the sentences to a fixed width\n",
    "def wrap_labels(labels, width=50):\n",
    "    return [textwrap.fill(label, width) for label in labels]\n",
    "\n",
    "# Apply the wrapping to the content in the top_k DataFrame\n",
    "wrapped_labels = wrap_labels(top_k['content'])\n",
    "\n",
    "# Plot the results\n",
    "plt.figure(figsize=(10, 6))\n",
    "# plt.barh(top_k['content'], top_k['distance'], color='skyblue')\n",
    "plt.barh(wrapped_labels, top_k['distance'], color='skyblue')\n",
    "plt.xlabel('Cosine Distance')\n",
    "plt.ylabel('Sentence')\n",
    "plt.title('Top k Closest Sentences')\n",
    "plt.gca().invert_yaxis()  # Invert y-axis to have the closest sentence on top\n",
    "plt.show()\n"
   ]
  },
  {
   "cell_type": "code",
   "execution_count": null,
   "metadata": {},
   "outputs": [],
   "source": []
  },
  {
   "cell_type": "code",
   "execution_count": 50,
   "metadata": {},
   "outputs": [
    {
     "data": {
      "image/png": "[encoded data removed]",
      "text/plain": [
       "<Figure size 1000x600 with 1 Axes>"
      ]
     },
     "metadata": {},
     "output_type": "display_data"
    }
   ],
   "source": [
    "top_k = sentances_df.nlargest(k, 'distance')\n",
    "\n",
    "wrapped_labels = wrap_labels(top_k['content'])\n",
    "\n",
    "# Plot the results\n",
    "plt.figure(figsize=(10, 6))\n",
    "plt.barh(wrapped_labels, top_k['distance'], color='skyblue')\n",
    "plt.xlabel('Cosine Distance')\n",
    "plt.ylabel('Sentence')\n",
    "plt.title('Top k Furthest Sentences')\n",
    "plt.gca().invert_yaxis()  # Invert y-axis to have the closest sentence on top\n",
    "plt.show()"
   ]
  },
  {
   "cell_type": "code",
   "execution_count": null,
   "metadata": {},
   "outputs": [],
   "source": []
  },
  {
   "cell_type": "markdown",
   "metadata": {},
   "source": [
    "## Cats and Mats"
   ]
  },
  {
   "cell_type": "code",
   "execution_count": 86,
   "metadata": {},
   "outputs": [
    {
     "name": "stdout",
     "output_type": "stream",
     "text": [
      "Batch 0 to 99\n"
     ]
    }
   ],
   "source": [
    "phrases = [\"The cat sat on the mat.\",\n",
    "\"On the mat, the cat sat.\",\n",
    "\"The mat was sat on by the cat.\",\n",
    "\"A feline perched itself atop the mat.\",\n",
    "\"Sitting quietly, the cat chose the mat as its spot.\", \n",
    "\"The rat sat on the mat.\",\n",
    "\"The rat sat on the cat.\",\n",
    "]\n",
    "\n",
    "phrases_df = pd.DataFrame(phrases, columns=['content'])\n",
    "\n",
    "phrases_embeddings = []\n",
    "for batch_start in range(0, len(phrases_df), BATCH_SIZE):\n",
    "    batch_end = batch_start + BATCH_SIZE\n",
    "\n",
    "    batch = phrases_df.content[batch_start:batch_end]\n",
    "    print(f\"Batch {batch_start} to {batch_end-1}\")\n",
    "    response = client.embeddings.create(model=EMBEDDING_MODEL, input=batch)\n",
    "    for i, be in enumerate(response.data):\n",
    "        assert i == be.index  # double check embeddings are in same order as input\n",
    "    batch_embeddings = [e.embedding for e in response.data]\n",
    "    phrases_embeddings.extend(batch_embeddings)\n",
    "\n",
    "phrases_df[\"embedding\"] = phrases_embeddings"
   ]
  },
  {
   "cell_type": "code",
   "execution_count": 87,
   "metadata": {},
   "outputs": [
    {
     "data": {
      "text/html": [
       "<div>\n",
       "<style scoped>\n",
       "    .dataframe tbody tr th:only-of-type {\n",
       "        vertical-align: middle;\n",
       "    }\n",
       "\n",
       "    .dataframe tbody tr th {\n",
       "        vertical-align: top;\n",
       "    }\n",
       "\n",
       "    .dataframe thead th {\n",
       "        text-align: right;\n",
       "    }\n",
       "</style>\n",
       "<table border=\"1\" class=\"dataframe\">\n",
       "  <thead>\n",
       "    <tr style=\"text-align: right;\">\n",
       "      <th></th>\n",
       "      <th>content</th>\n",
       "      <th>embedding</th>\n",
       "    </tr>\n",
       "  </thead>\n",
       "  <tbody>\n",
       "    <tr>\n",
       "      <th>0</th>\n",
       "      <td>The cat sat on the mat.</td>\n",
       "      <td>[-0.02447381056845188, -0.03738884627819061, 0...</td>\n",
       "    </tr>\n",
       "    <tr>\n",
       "      <th>1</th>\n",
       "      <td>On the mat, the cat sat.</td>\n",
       "      <td>[-0.016323771327733994, -0.011399605311453342,...</td>\n",
       "    </tr>\n",
       "    <tr>\n",
       "      <th>2</th>\n",
       "      <td>The mat was sat on by the cat.</td>\n",
       "      <td>[-0.00436724629253149, -0.028424352407455444, ...</td>\n",
       "    </tr>\n",
       "    <tr>\n",
       "      <th>3</th>\n",
       "      <td>A feline perched itself atop the mat.</td>\n",
       "      <td>[-0.016060635447502136, -0.03977558761835098, ...</td>\n",
       "    </tr>\n",
       "    <tr>\n",
       "      <th>4</th>\n",
       "      <td>Sitting quietly, the cat chose the mat as its ...</td>\n",
       "      <td>[-0.03179492801427841, -0.028860384598374367, ...</td>\n",
       "    </tr>\n",
       "  </tbody>\n",
       "</table>\n",
       "</div>"
      ],
      "text/plain": [
       "                                             content  \\\n",
       "0                            The cat sat on the mat.   \n",
       "1                           On the mat, the cat sat.   \n",
       "2                     The mat was sat on by the cat.   \n",
       "3              A feline perched itself atop the mat.   \n",
       "4  Sitting quietly, the cat chose the mat as its ...   \n",
       "\n",
       "                                           embedding  \n",
       "0  [-0.02447381056845188, -0.03738884627819061, 0...  \n",
       "1  [-0.016323771327733994, -0.011399605311453342,...  \n",
       "2  [-0.00436724629253149, -0.028424352407455444, ...  \n",
       "3  [-0.016060635447502136, -0.03977558761835098, ...  \n",
       "4  [-0.03179492801427841, -0.028860384598374367, ...  "
      ]
     },
     "execution_count": 87,
     "metadata": {},
     "output_type": "execute_result"
    }
   ],
   "source": [
    "phrases_df.head()"
   ]
  },
  {
   "cell_type": "code",
   "execution_count": 88,
   "metadata": {},
   "outputs": [
    {
     "data": {
      "image/png": "[encoded data removed]",
      "text/plain": [
       "<Figure size 640x480 with 2 Axes>"
      ]
     },
     "metadata": {},
     "output_type": "display_data"
    }
   ],
   "source": [
    "\n",
    "distance_matrix = cosine_distances(phrases_embeddings, phrases_embeddings)\n",
    "\n",
    "plt.imshow(distance_matrix[:1, :], cmap='hot', interpolation='nearest')\n",
    "plt.colorbar()\n",
    "# annotate\n",
    "for i in range(1):\n",
    "    for j in range(len(phrases)):\n",
    "        plt.text(j, i, f\"{distance_matrix[i, j]:.2f}\", ha='center', va='center', color='black')\n",
    "plt.xticks(range(len(phrases)), phrases, rotation=90)\n",
    "plt.yticks(range(1), phrases[:1]);\n"
   ]
  },
  {
   "cell_type": "code",
   "execution_count": 85,
   "metadata": {},
   "outputs": [
    {
     "data": {
      "image/png": "[encoded data removed]",
      "text/plain": [
       "<Figure size 640x480 with 2 Axes>"
      ]
     },
     "metadata": {},
     "output_type": "display_data"
    }
   ],
   "source": [
    "\n",
    "distance_matrix = cosine_distances(phrases_embeddings, phrases_embeddings)\n",
    "\n",
    "plt.imshow(distance_matrix, cmap='hot', interpolation='nearest')\n",
    "plt.colorbar()\n",
    "# annotate\n",
    "for i in range(len(phrases)):\n",
    "    for j in range(len(phrases)):\n",
    "        plt.text(j, i, f\"{distance_matrix[i, j]:.2f}\", ha='center', va='center', color='black')\n",
    "plt.xticks(range(len(phrases)), phrases, rotation=90)\n",
    "plt.yticks(range(len(phrases)), phrases);\n"
   ]
  },
  {
   "cell_type": "code",
   "execution_count": null,
   "metadata": {},
   "outputs": [],
   "source": []
  }
 ],
 "metadata": {
  "kernelspec": {
   "display_name": "base",
   "language": "python",
   "name": "python3"
  },
  "language_info": {
   "codemirror_mode": {
    "name": "ipython",
    "version": 3
   },
   "file_extension": ".py",
   "mimetype": "text/x-python",
   "name": "python",
   "nbconvert_exporter": "python",
   "pygments_lexer": "ipython3",
   "version": "3.10.8"
  }
 },
 "nbformat": 4,
 "nbformat_minor": 2
}
